{
  "nbformat": 4,
  "nbformat_minor": 0,
  "metadata": {
    "colab": {
      "name": "Predicting the Price of a Football Player .ipynb",
      "provenance": [],
      "include_colab_link": true
    },
    "kernelspec": {
      "name": "python3",
      "display_name": "Python 3"
    }
  },
  "cells": [
    {
      "cell_type": "markdown",
      "metadata": {
        "id": "view-in-github",
        "colab_type": "text"
      },
      "source": [
        "<a href=\"https://colab.research.google.com/github/Shivamtripathi13/Predicting-the-Price-of-a-Football-Player-/blob/main/Predicting_the_Price_of_a_Football_Player_.ipynb\" target=\"_parent\"><img src=\"https://colab.research.google.com/assets/colab-badge.svg\" alt=\"Open In Colab\"/></a>"
      ]
    },
    {
      "cell_type": "code",
      "metadata": {
        "id": "EVSixUMHVAW6",
        "colab": {
          "base_uri": "https://localhost:8080/",
          "height": 309
        },
        "outputId": "5dfd3655-70d4-4902-ed3f-ef23c90018c2"
      },
      "source": [
        "import pandas as pd\n",
        "data = pd.read_csv(\"football_CLEAN.csv\", header=0)\n",
        "data.head()"
      ],
      "execution_count": null,
      "outputs": [
        {
          "output_type": "execute_result",
          "data": {
            "text/html": [
              "<div>\n",
              "<style scoped>\n",
              "    .dataframe tbody tr th:only-of-type {\n",
              "        vertical-align: middle;\n",
              "    }\n",
              "\n",
              "    .dataframe tbody tr th {\n",
              "        vertical-align: top;\n",
              "    }\n",
              "\n",
              "    .dataframe thead th {\n",
              "        text-align: right;\n",
              "    }\n",
              "</style>\n",
              "<table border=\"1\" class=\"dataframe\">\n",
              "  <thead>\n",
              "    <tr style=\"text-align: right;\">\n",
              "      <th></th>\n",
              "      <th>name</th>\n",
              "      <th>club</th>\n",
              "      <th>age</th>\n",
              "      <th>position</th>\n",
              "      <th>position_cat</th>\n",
              "      <th>market_value</th>\n",
              "      <th>page_views</th>\n",
              "      <th>fpl_value</th>\n",
              "      <th>fpl_sel</th>\n",
              "      <th>fpl_points</th>\n",
              "      <th>region</th>\n",
              "      <th>nationality</th>\n",
              "      <th>new_foreign</th>\n",
              "      <th>age_cat</th>\n",
              "      <th>club_id</th>\n",
              "      <th>big_club</th>\n",
              "      <th>new_signing</th>\n",
              "    </tr>\n",
              "  </thead>\n",
              "  <tbody>\n",
              "    <tr>\n",
              "      <th>0</th>\n",
              "      <td>Alexis Sanchez</td>\n",
              "      <td>Arsenal</td>\n",
              "      <td>28</td>\n",
              "      <td>LW</td>\n",
              "      <td>1</td>\n",
              "      <td>65.0</td>\n",
              "      <td>4329</td>\n",
              "      <td>12.0</td>\n",
              "      <td>17.10%</td>\n",
              "      <td>264</td>\n",
              "      <td>3</td>\n",
              "      <td>Chile</td>\n",
              "      <td>0</td>\n",
              "      <td>4</td>\n",
              "      <td>1</td>\n",
              "      <td>1</td>\n",
              "      <td>0</td>\n",
              "    </tr>\n",
              "    <tr>\n",
              "      <th>1</th>\n",
              "      <td>Mesut Ozil</td>\n",
              "      <td>Arsenal</td>\n",
              "      <td>28</td>\n",
              "      <td>AM</td>\n",
              "      <td>1</td>\n",
              "      <td>50.0</td>\n",
              "      <td>4395</td>\n",
              "      <td>9.5</td>\n",
              "      <td>5.60%</td>\n",
              "      <td>167</td>\n",
              "      <td>2</td>\n",
              "      <td>Germany</td>\n",
              "      <td>0</td>\n",
              "      <td>4</td>\n",
              "      <td>1</td>\n",
              "      <td>1</td>\n",
              "      <td>0</td>\n",
              "    </tr>\n",
              "    <tr>\n",
              "      <th>2</th>\n",
              "      <td>Petr Cech</td>\n",
              "      <td>Arsenal</td>\n",
              "      <td>35</td>\n",
              "      <td>GK</td>\n",
              "      <td>4</td>\n",
              "      <td>7.0</td>\n",
              "      <td>1529</td>\n",
              "      <td>5.5</td>\n",
              "      <td>5.90%</td>\n",
              "      <td>134</td>\n",
              "      <td>2</td>\n",
              "      <td>Czech Republic</td>\n",
              "      <td>0</td>\n",
              "      <td>6</td>\n",
              "      <td>1</td>\n",
              "      <td>1</td>\n",
              "      <td>0</td>\n",
              "    </tr>\n",
              "    <tr>\n",
              "      <th>3</th>\n",
              "      <td>Theo Walcott</td>\n",
              "      <td>Arsenal</td>\n",
              "      <td>28</td>\n",
              "      <td>RW</td>\n",
              "      <td>1</td>\n",
              "      <td>20.0</td>\n",
              "      <td>2393</td>\n",
              "      <td>7.5</td>\n",
              "      <td>1.50%</td>\n",
              "      <td>122</td>\n",
              "      <td>1</td>\n",
              "      <td>England</td>\n",
              "      <td>0</td>\n",
              "      <td>4</td>\n",
              "      <td>1</td>\n",
              "      <td>1</td>\n",
              "      <td>0</td>\n",
              "    </tr>\n",
              "    <tr>\n",
              "      <th>4</th>\n",
              "      <td>Laurent Koscielny</td>\n",
              "      <td>Arsenal</td>\n",
              "      <td>31</td>\n",
              "      <td>CB</td>\n",
              "      <td>3</td>\n",
              "      <td>22.0</td>\n",
              "      <td>912</td>\n",
              "      <td>6.0</td>\n",
              "      <td>0.70%</td>\n",
              "      <td>121</td>\n",
              "      <td>2</td>\n",
              "      <td>France</td>\n",
              "      <td>0</td>\n",
              "      <td>4</td>\n",
              "      <td>1</td>\n",
              "      <td>1</td>\n",
              "      <td>0</td>\n",
              "    </tr>\n",
              "  </tbody>\n",
              "</table>\n",
              "</div>"
            ],
            "text/plain": [
              "                name     club  age  ... club_id  big_club  new_signing\n",
              "0     Alexis Sanchez  Arsenal   28  ...       1         1            0\n",
              "1         Mesut Ozil  Arsenal   28  ...       1         1            0\n",
              "2          Petr Cech  Arsenal   35  ...       1         1            0\n",
              "3       Theo Walcott  Arsenal   28  ...       1         1            0\n",
              "4  Laurent Koscielny  Arsenal   31  ...       1         1            0\n",
              "\n",
              "[5 rows x 17 columns]"
            ]
          },
          "metadata": {
            "tags": []
          },
          "execution_count": 2
        }
      ]
    },
    {
      "cell_type": "code",
      "metadata": {
        "id": "zXCmDf3LVOvJ",
        "colab": {
          "base_uri": "https://localhost:8080/",
          "height": 314
        },
        "outputId": "c986e1ab-c101-4a2c-89f5-5f718b7a60ac"
      },
      "source": [
        "data.describe()"
      ],
      "execution_count": null,
      "outputs": [
        {
          "output_type": "execute_result",
          "data": {
            "text/html": [
              "<div>\n",
              "<style scoped>\n",
              "    .dataframe tbody tr th:only-of-type {\n",
              "        vertical-align: middle;\n",
              "    }\n",
              "\n",
              "    .dataframe tbody tr th {\n",
              "        vertical-align: top;\n",
              "    }\n",
              "\n",
              "    .dataframe thead th {\n",
              "        text-align: right;\n",
              "    }\n",
              "</style>\n",
              "<table border=\"1\" class=\"dataframe\">\n",
              "  <thead>\n",
              "    <tr style=\"text-align: right;\">\n",
              "      <th></th>\n",
              "      <th>age</th>\n",
              "      <th>position_cat</th>\n",
              "      <th>market_value</th>\n",
              "      <th>page_views</th>\n",
              "      <th>fpl_value</th>\n",
              "      <th>fpl_points</th>\n",
              "      <th>region</th>\n",
              "      <th>new_foreign</th>\n",
              "      <th>age_cat</th>\n",
              "      <th>club_id</th>\n",
              "      <th>big_club</th>\n",
              "      <th>new_signing</th>\n",
              "    </tr>\n",
              "  </thead>\n",
              "  <tbody>\n",
              "    <tr>\n",
              "      <th>count</th>\n",
              "      <td>461.000000</td>\n",
              "      <td>461.000000</td>\n",
              "      <td>461.000000</td>\n",
              "      <td>461.000000</td>\n",
              "      <td>461.000000</td>\n",
              "      <td>461.000000</td>\n",
              "      <td>461.000000</td>\n",
              "      <td>461.000000</td>\n",
              "      <td>461.000000</td>\n",
              "      <td>461.000000</td>\n",
              "      <td>461.000000</td>\n",
              "      <td>461.000000</td>\n",
              "    </tr>\n",
              "    <tr>\n",
              "      <th>mean</th>\n",
              "      <td>26.804772</td>\n",
              "      <td>2.180043</td>\n",
              "      <td>11.012039</td>\n",
              "      <td>763.776573</td>\n",
              "      <td>5.447939</td>\n",
              "      <td>57.314534</td>\n",
              "      <td>1.997831</td>\n",
              "      <td>0.034707</td>\n",
              "      <td>3.206074</td>\n",
              "      <td>10.334056</td>\n",
              "      <td>0.303688</td>\n",
              "      <td>0.145336</td>\n",
              "    </tr>\n",
              "    <tr>\n",
              "      <th>std</th>\n",
              "      <td>3.961892</td>\n",
              "      <td>1.000061</td>\n",
              "      <td>12.257403</td>\n",
              "      <td>931.805757</td>\n",
              "      <td>1.346695</td>\n",
              "      <td>53.113811</td>\n",
              "      <td>0.961202</td>\n",
              "      <td>0.183236</td>\n",
              "      <td>1.279795</td>\n",
              "      <td>5.726475</td>\n",
              "      <td>0.460349</td>\n",
              "      <td>0.352822</td>\n",
              "    </tr>\n",
              "    <tr>\n",
              "      <th>min</th>\n",
              "      <td>17.000000</td>\n",
              "      <td>1.000000</td>\n",
              "      <td>0.050000</td>\n",
              "      <td>3.000000</td>\n",
              "      <td>4.000000</td>\n",
              "      <td>0.000000</td>\n",
              "      <td>1.000000</td>\n",
              "      <td>0.000000</td>\n",
              "      <td>1.000000</td>\n",
              "      <td>1.000000</td>\n",
              "      <td>0.000000</td>\n",
              "      <td>0.000000</td>\n",
              "    </tr>\n",
              "    <tr>\n",
              "      <th>25%</th>\n",
              "      <td>24.000000</td>\n",
              "      <td>1.000000</td>\n",
              "      <td>3.000000</td>\n",
              "      <td>220.000000</td>\n",
              "      <td>4.500000</td>\n",
              "      <td>5.000000</td>\n",
              "      <td>1.000000</td>\n",
              "      <td>0.000000</td>\n",
              "      <td>2.000000</td>\n",
              "      <td>6.000000</td>\n",
              "      <td>0.000000</td>\n",
              "      <td>0.000000</td>\n",
              "    </tr>\n",
              "    <tr>\n",
              "      <th>50%</th>\n",
              "      <td>27.000000</td>\n",
              "      <td>2.000000</td>\n",
              "      <td>7.000000</td>\n",
              "      <td>460.000000</td>\n",
              "      <td>5.000000</td>\n",
              "      <td>51.000000</td>\n",
              "      <td>2.000000</td>\n",
              "      <td>0.000000</td>\n",
              "      <td>3.000000</td>\n",
              "      <td>10.000000</td>\n",
              "      <td>0.000000</td>\n",
              "      <td>0.000000</td>\n",
              "    </tr>\n",
              "    <tr>\n",
              "      <th>75%</th>\n",
              "      <td>30.000000</td>\n",
              "      <td>3.000000</td>\n",
              "      <td>15.000000</td>\n",
              "      <td>896.000000</td>\n",
              "      <td>5.500000</td>\n",
              "      <td>94.000000</td>\n",
              "      <td>2.000000</td>\n",
              "      <td>0.000000</td>\n",
              "      <td>4.000000</td>\n",
              "      <td>15.000000</td>\n",
              "      <td>1.000000</td>\n",
              "      <td>0.000000</td>\n",
              "    </tr>\n",
              "    <tr>\n",
              "      <th>max</th>\n",
              "      <td>38.000000</td>\n",
              "      <td>4.000000</td>\n",
              "      <td>75.000000</td>\n",
              "      <td>7664.000000</td>\n",
              "      <td>12.500000</td>\n",
              "      <td>264.000000</td>\n",
              "      <td>4.000000</td>\n",
              "      <td>1.000000</td>\n",
              "      <td>6.000000</td>\n",
              "      <td>20.000000</td>\n",
              "      <td>1.000000</td>\n",
              "      <td>1.000000</td>\n",
              "    </tr>\n",
              "  </tbody>\n",
              "</table>\n",
              "</div>"
            ],
            "text/plain": [
              "              age  position_cat  ...    big_club  new_signing\n",
              "count  461.000000    461.000000  ...  461.000000   461.000000\n",
              "mean    26.804772      2.180043  ...    0.303688     0.145336\n",
              "std      3.961892      1.000061  ...    0.460349     0.352822\n",
              "min     17.000000      1.000000  ...    0.000000     0.000000\n",
              "25%     24.000000      1.000000  ...    0.000000     0.000000\n",
              "50%     27.000000      2.000000  ...    0.000000     0.000000\n",
              "75%     30.000000      3.000000  ...    1.000000     0.000000\n",
              "max     38.000000      4.000000  ...    1.000000     1.000000\n",
              "\n",
              "[8 rows x 12 columns]"
            ]
          },
          "metadata": {
            "tags": []
          },
          "execution_count": 3
        }
      ]
    },
    {
      "cell_type": "code",
      "metadata": {
        "id": "SeM3dbP9VgOQ",
        "colab": {
          "base_uri": "https://localhost:8080/"
        },
        "outputId": "b12d1520-2de0-4847-b239-a554eeb97011"
      },
      "source": [
        "data.shape"
      ],
      "execution_count": null,
      "outputs": [
        {
          "output_type": "execute_result",
          "data": {
            "text/plain": [
              "(461, 17)"
            ]
          },
          "metadata": {
            "tags": []
          },
          "execution_count": 4
        }
      ]
    },
    {
      "cell_type": "code",
      "metadata": {
        "id": "3bqPqTO8Vi-c",
        "colab": {
          "base_uri": "https://localhost:8080/"
        },
        "outputId": "475cacdf-ec4f-434d-96a4-3539304161c3"
      },
      "source": [
        "data['market_value'].max()"
      ],
      "execution_count": null,
      "outputs": [
        {
          "output_type": "execute_result",
          "data": {
            "text/plain": [
              "75.0"
            ]
          },
          "metadata": {
            "tags": []
          },
          "execution_count": 5
        }
      ]
    },
    {
      "cell_type": "code",
      "metadata": {
        "id": "ul30JyjwWI8f",
        "colab": {
          "base_uri": "https://localhost:8080/"
        },
        "outputId": "e3ef8c17-a3d8-4967-bfc5-28fe0dd29d8b"
      },
      "source": [
        "data.isna().sum()"
      ],
      "execution_count": null,
      "outputs": [
        {
          "output_type": "execute_result",
          "data": {
            "text/plain": [
              "name            0\n",
              "club            0\n",
              "age             0\n",
              "position        0\n",
              "position_cat    0\n",
              "market_value    0\n",
              "page_views      0\n",
              "fpl_value       0\n",
              "fpl_sel         0\n",
              "fpl_points      0\n",
              "region          0\n",
              "nationality     0\n",
              "new_foreign     0\n",
              "age_cat         0\n",
              "club_id         0\n",
              "big_club        0\n",
              "new_signing     0\n",
              "dtype: int64"
            ]
          },
          "metadata": {
            "tags": []
          },
          "execution_count": 6
        }
      ]
    },
    {
      "cell_type": "code",
      "metadata": {
        "id": "Z-zLeumIWPqZ",
        "colab": {
          "base_uri": "https://localhost:8080/"
        },
        "outputId": "63d8cdac-c7cd-4b33-e30e-316f0fd986e5"
      },
      "source": [
        "data=data.fillna(method='pad')\n",
        "data.isna().sum()"
      ],
      "execution_count": null,
      "outputs": [
        {
          "output_type": "execute_result",
          "data": {
            "text/plain": [
              "name            0\n",
              "club            0\n",
              "age             0\n",
              "position        0\n",
              "position_cat    0\n",
              "market_value    0\n",
              "page_views      0\n",
              "fpl_value       0\n",
              "fpl_sel         0\n",
              "fpl_points      0\n",
              "region          0\n",
              "nationality     0\n",
              "new_foreign     0\n",
              "age_cat         0\n",
              "club_id         0\n",
              "big_club        0\n",
              "new_signing     0\n",
              "dtype: int64"
            ]
          },
          "metadata": {
            "tags": []
          },
          "execution_count": 7
        }
      ]
    },
    {
      "cell_type": "code",
      "metadata": {
        "id": "isyZ6q5iWR0b",
        "colab": {
          "base_uri": "https://localhost:8080/"
        },
        "outputId": "8a498f23-b387-4210-8450-59ed4fa7006a"
      },
      "source": [
        "#duplicate values\n",
        "dup=data.duplicated()\n",
        "print(dup.sum())"
      ],
      "execution_count": null,
      "outputs": [
        {
          "output_type": "stream",
          "text": [
            "0\n"
          ],
          "name": "stdout"
        }
      ]
    },
    {
      "cell_type": "code",
      "metadata": {
        "id": "BgxgmjqPWWnt",
        "colab": {
          "base_uri": "https://localhost:8080/"
        },
        "outputId": "87f6394b-de1f-4d65-8f78-d56c7782d7b7"
      },
      "source": [
        "data.info()"
      ],
      "execution_count": null,
      "outputs": [
        {
          "output_type": "stream",
          "text": [
            "<class 'pandas.core.frame.DataFrame'>\n",
            "RangeIndex: 461 entries, 0 to 460\n",
            "Data columns (total 17 columns):\n",
            " #   Column        Non-Null Count  Dtype  \n",
            "---  ------        --------------  -----  \n",
            " 0   name          461 non-null    object \n",
            " 1   club          461 non-null    object \n",
            " 2   age           461 non-null    int64  \n",
            " 3   position      461 non-null    object \n",
            " 4   position_cat  461 non-null    int64  \n",
            " 5   market_value  461 non-null    float64\n",
            " 6   page_views    461 non-null    int64  \n",
            " 7   fpl_value     461 non-null    float64\n",
            " 8   fpl_sel       461 non-null    object \n",
            " 9   fpl_points    461 non-null    int64  \n",
            " 10  region        461 non-null    int64  \n",
            " 11  nationality   461 non-null    object \n",
            " 12  new_foreign   461 non-null    int64  \n",
            " 13  age_cat       461 non-null    int64  \n",
            " 14  club_id       461 non-null    int64  \n",
            " 15  big_club      461 non-null    int64  \n",
            " 16  new_signing   461 non-null    int64  \n",
            "dtypes: float64(2), int64(10), object(5)\n",
            "memory usage: 61.4+ KB\n"
          ],
          "name": "stdout"
        }
      ]
    },
    {
      "cell_type": "code",
      "metadata": {
        "id": "ixsyI3fBWkrM",
        "colab": {
          "base_uri": "https://localhost:8080/",
          "height": 1000
        },
        "outputId": "30d3fd8a-0766-41e9-d2ee-adbec6c4b784"
      },
      "source": [
        "import seaborn as sns\n",
        "\n",
        "sns.pairplot(data,corner=True);"
      ],
      "execution_count": null,
      "outputs": [
        {
          "output_type": "display_data",
          "data": {
            "image/png": "[encoded data removed]",
            "text/plain": [
              "<Figure size 2160x2160 with 90 Axes>"
            ]
          },
          "metadata": {
            "tags": [],
            "needs_background": "light"
          }
        }
      ]
    },
    {
      "cell_type": "code",
      "metadata": {
        "id": "5s_ukZwHWvN1",
        "colab": {
          "base_uri": "https://localhost:8080/",
          "height": 297
        },
        "outputId": "802876ae-c78e-4d00-fd8a-6381ad8f7d31"
      },
      "source": [
        "#age/market_value\n",
        "sns.scatterplot(data=data,x='age',y='market_value') "
      ],
      "execution_count": null,
      "outputs": [
        {
          "output_type": "execute_result",
          "data": {
            "text/plain": [
              "<matplotlib.axes._subplots.AxesSubplot at 0x7f687c439518>"
            ]
          },
          "metadata": {
            "tags": []
          },
          "execution_count": 11
        },
        {
          "output_type": "display_data",
          "data": {
            "image/png": "[encoded data removed]",
            "text/plain": [
              "<Figure size 432x288 with 1 Axes>"
            ]
          },
          "metadata": {
            "tags": [],
            "needs_background": "light"
          }
        }
      ]
    },
    {
      "cell_type": "code",
      "metadata": {
        "id": "bTrNZEPGWyKF",
        "colab": {
          "base_uri": "https://localhost:8080/",
          "height": 297
        },
        "outputId": "c193dcc9-52b7-4b64-bcb9-ed5b85e2dd9c"
      },
      "source": [
        "#position_cat / market_value  \n",
        "sns.barplot(data=data,x='position_cat',y='market_value')   "
      ],
      "execution_count": null,
      "outputs": [
        {
          "output_type": "execute_result",
          "data": {
            "text/plain": [
              "<matplotlib.axes._subplots.AxesSubplot at 0x7f687c940b38>"
            ]
          },
          "metadata": {
            "tags": []
          },
          "execution_count": 12
        },
        {
          "output_type": "display_data",
          "data": {
            "image/png": "[encoded data removed]",
            "text/plain": [
              "<Figure size 432x288 with 1 Axes>"
            ]
          },
          "metadata": {
            "tags": [],
            "needs_background": "light"
          }
        }
      ]
    },
    {
      "cell_type": "code",
      "metadata": {
        "id": "R4yAFtS3W1Uu",
        "colab": {
          "base_uri": "https://localhost:8080/",
          "height": 297
        },
        "outputId": "8a3ce76a-8312-47c9-8093-d7151da17f5b"
      },
      "source": [
        "#page_views / market_value\n",
        "sns.scatterplot(data=data,x='page_views',y='market_value') "
      ],
      "execution_count": null,
      "outputs": [
        {
          "output_type": "execute_result",
          "data": {
            "text/plain": [
              "<matplotlib.axes._subplots.AxesSubplot at 0x7f687abd29e8>"
            ]
          },
          "metadata": {
            "tags": []
          },
          "execution_count": 13
        },
        {
          "output_type": "display_data",
          "data": {
            "image/png": "[encoded data removed]",
            "text/plain": [
              "<Figure size 432x288 with 1 Axes>"
            ]
          },
          "metadata": {
            "tags": [],
            "needs_background": "light"
          }
        }
      ]
    },
    {
      "cell_type": "code",
      "metadata": {
        "id": "wg8nuxS7W4fm",
        "colab": {
          "base_uri": "https://localhost:8080/",
          "height": 437
        },
        "outputId": "3d23318b-cf20-47e5-cd31-1d6dfa893f3f"
      },
      "source": [
        "data.corr(method='pearson')"
      ],
      "execution_count": null,
      "outputs": [
        {
          "output_type": "execute_result",
          "data": {
            "text/html": [
              "<div>\n",
              "<style scoped>\n",
              "    .dataframe tbody tr th:only-of-type {\n",
              "        vertical-align: middle;\n",
              "    }\n",
              "\n",
              "    .dataframe tbody tr th {\n",
              "        vertical-align: top;\n",
              "    }\n",
              "\n",
              "    .dataframe thead th {\n",
              "        text-align: right;\n",
              "    }\n",
              "</style>\n",
              "<table border=\"1\" class=\"dataframe\">\n",
              "  <thead>\n",
              "    <tr style=\"text-align: right;\">\n",
              "      <th></th>\n",
              "      <th>age</th>\n",
              "      <th>position_cat</th>\n",
              "      <th>market_value</th>\n",
              "      <th>page_views</th>\n",
              "      <th>fpl_value</th>\n",
              "      <th>fpl_points</th>\n",
              "      <th>region</th>\n",
              "      <th>new_foreign</th>\n",
              "      <th>age_cat</th>\n",
              "      <th>club_id</th>\n",
              "      <th>big_club</th>\n",
              "      <th>new_signing</th>\n",
              "    </tr>\n",
              "  </thead>\n",
              "  <tbody>\n",
              "    <tr>\n",
              "      <th>age</th>\n",
              "      <td>1.000000</td>\n",
              "      <td>0.220678</td>\n",
              "      <td>-0.132396</td>\n",
              "      <td>-0.048682</td>\n",
              "      <td>-0.097659</td>\n",
              "      <td>0.187785</td>\n",
              "      <td>0.080379</td>\n",
              "      <td>-0.125400</td>\n",
              "      <td>0.972199</td>\n",
              "      <td>-0.002868</td>\n",
              "      <td>-0.123566</td>\n",
              "      <td>-0.079190</td>\n",
              "    </tr>\n",
              "    <tr>\n",
              "      <th>position_cat</th>\n",
              "      <td>0.220678</td>\n",
              "      <td>1.000000</td>\n",
              "      <td>-0.217637</td>\n",
              "      <td>-0.279432</td>\n",
              "      <td>-0.491800</td>\n",
              "      <td>-0.084682</td>\n",
              "      <td>-0.067439</td>\n",
              "      <td>0.001415</td>\n",
              "      <td>0.196853</td>\n",
              "      <td>-0.016599</td>\n",
              "      <td>0.017915</td>\n",
              "      <td>-0.105127</td>\n",
              "    </tr>\n",
              "    <tr>\n",
              "      <th>market_value</th>\n",
              "      <td>-0.132396</td>\n",
              "      <td>-0.217637</td>\n",
              "      <td>1.000000</td>\n",
              "      <td>0.739657</td>\n",
              "      <td>0.788653</td>\n",
              "      <td>0.615155</td>\n",
              "      <td>0.099114</td>\n",
              "      <td>0.098056</td>\n",
              "      <td>-0.117682</td>\n",
              "      <td>-0.046068</td>\n",
              "      <td>0.593483</td>\n",
              "      <td>0.131321</td>\n",
              "    </tr>\n",
              "    <tr>\n",
              "      <th>page_views</th>\n",
              "      <td>-0.048682</td>\n",
              "      <td>-0.279432</td>\n",
              "      <td>0.739657</td>\n",
              "      <td>1.000000</td>\n",
              "      <td>0.730640</td>\n",
              "      <td>0.542464</td>\n",
              "      <td>0.027441</td>\n",
              "      <td>-0.049725</td>\n",
              "      <td>-0.041672</td>\n",
              "      <td>-0.092409</td>\n",
              "      <td>0.502982</td>\n",
              "      <td>0.127249</td>\n",
              "    </tr>\n",
              "    <tr>\n",
              "      <th>fpl_value</th>\n",
              "      <td>-0.097659</td>\n",
              "      <td>-0.491800</td>\n",
              "      <td>0.788653</td>\n",
              "      <td>0.730640</td>\n",
              "      <td>1.000000</td>\n",
              "      <td>0.618837</td>\n",
              "      <td>0.083883</td>\n",
              "      <td>0.108650</td>\n",
              "      <td>-0.082056</td>\n",
              "      <td>-0.060884</td>\n",
              "      <td>0.423556</td>\n",
              "      <td>0.098314</td>\n",
              "    </tr>\n",
              "    <tr>\n",
              "      <th>fpl_points</th>\n",
              "      <td>0.187785</td>\n",
              "      <td>-0.084682</td>\n",
              "      <td>0.615155</td>\n",
              "      <td>0.542464</td>\n",
              "      <td>0.618837</td>\n",
              "      <td>1.000000</td>\n",
              "      <td>-0.011569</td>\n",
              "      <td>-0.204837</td>\n",
              "      <td>0.176572</td>\n",
              "      <td>0.041094</td>\n",
              "      <td>0.280061</td>\n",
              "      <td>0.085720</td>\n",
              "    </tr>\n",
              "    <tr>\n",
              "      <th>region</th>\n",
              "      <td>0.080379</td>\n",
              "      <td>-0.067439</td>\n",
              "      <td>0.099114</td>\n",
              "      <td>0.027441</td>\n",
              "      <td>0.083883</td>\n",
              "      <td>-0.011569</td>\n",
              "      <td>1.000000</td>\n",
              "      <td>0.049800</td>\n",
              "      <td>0.085190</td>\n",
              "      <td>0.066483</td>\n",
              "      <td>0.035883</td>\n",
              "      <td>0.174007</td>\n",
              "    </tr>\n",
              "    <tr>\n",
              "      <th>new_foreign</th>\n",
              "      <td>-0.125400</td>\n",
              "      <td>0.001415</td>\n",
              "      <td>0.098056</td>\n",
              "      <td>-0.049725</td>\n",
              "      <td>0.108650</td>\n",
              "      <td>-0.204837</td>\n",
              "      <td>0.049800</td>\n",
              "      <td>1.000000</td>\n",
              "      <td>-0.113998</td>\n",
              "      <td>-0.002786</td>\n",
              "      <td>0.080949</td>\n",
              "      <td>-0.078193</td>\n",
              "    </tr>\n",
              "    <tr>\n",
              "      <th>age_cat</th>\n",
              "      <td>0.972199</td>\n",
              "      <td>0.196853</td>\n",
              "      <td>-0.117682</td>\n",
              "      <td>-0.041672</td>\n",
              "      <td>-0.082056</td>\n",
              "      <td>0.176572</td>\n",
              "      <td>0.085190</td>\n",
              "      <td>-0.113998</td>\n",
              "      <td>1.000000</td>\n",
              "      <td>-0.004668</td>\n",
              "      <td>-0.113835</td>\n",
              "      <td>-0.076102</td>\n",
              "    </tr>\n",
              "    <tr>\n",
              "      <th>club_id</th>\n",
              "      <td>-0.002868</td>\n",
              "      <td>-0.016599</td>\n",
              "      <td>-0.046068</td>\n",
              "      <td>-0.092409</td>\n",
              "      <td>-0.060884</td>\n",
              "      <td>0.041094</td>\n",
              "      <td>0.066483</td>\n",
              "      <td>-0.002786</td>\n",
              "      <td>-0.004668</td>\n",
              "      <td>1.000000</td>\n",
              "      <td>-0.155667</td>\n",
              "      <td>0.134085</td>\n",
              "    </tr>\n",
              "    <tr>\n",
              "      <th>big_club</th>\n",
              "      <td>-0.123566</td>\n",
              "      <td>0.017915</td>\n",
              "      <td>0.593483</td>\n",
              "      <td>0.502982</td>\n",
              "      <td>0.423556</td>\n",
              "      <td>0.280061</td>\n",
              "      <td>0.035883</td>\n",
              "      <td>0.080949</td>\n",
              "      <td>-0.113835</td>\n",
              "      <td>-0.155667</td>\n",
              "      <td>1.000000</td>\n",
              "      <td>0.035508</td>\n",
              "    </tr>\n",
              "    <tr>\n",
              "      <th>new_signing</th>\n",
              "      <td>-0.079190</td>\n",
              "      <td>-0.105127</td>\n",
              "      <td>0.131321</td>\n",
              "      <td>0.127249</td>\n",
              "      <td>0.098314</td>\n",
              "      <td>0.085720</td>\n",
              "      <td>0.174007</td>\n",
              "      <td>-0.078193</td>\n",
              "      <td>-0.076102</td>\n",
              "      <td>0.134085</td>\n",
              "      <td>0.035508</td>\n",
              "      <td>1.000000</td>\n",
              "    </tr>\n",
              "  </tbody>\n",
              "</table>\n",
              "</div>"
            ],
            "text/plain": [
              "                   age  position_cat  ...  big_club  new_signing\n",
              "age           1.000000      0.220678  ... -0.123566    -0.079190\n",
              "position_cat  0.220678      1.000000  ...  0.017915    -0.105127\n",
              "market_value -0.132396     -0.217637  ...  0.593483     0.131321\n",
              "page_views   -0.048682     -0.279432  ...  0.502982     0.127249\n",
              "fpl_value    -0.097659     -0.491800  ...  0.423556     0.098314\n",
              "fpl_points    0.187785     -0.084682  ...  0.280061     0.085720\n",
              "region        0.080379     -0.067439  ...  0.035883     0.174007\n",
              "new_foreign  -0.125400      0.001415  ...  0.080949    -0.078193\n",
              "age_cat       0.972199      0.196853  ... -0.113835    -0.076102\n",
              "club_id      -0.002868     -0.016599  ... -0.155667     0.134085\n",
              "big_club     -0.123566      0.017915  ...  1.000000     0.035508\n",
              "new_signing  -0.079190     -0.105127  ...  0.035508     1.000000\n",
              "\n",
              "[12 rows x 12 columns]"
            ]
          },
          "metadata": {
            "tags": []
          },
          "execution_count": 14
        }
      ]
    },
    {
      "cell_type": "code",
      "metadata": {
        "id": "0HAp-KweW8a_",
        "colab": {
          "base_uri": "https://localhost:8080/",
          "height": 297
        },
        "outputId": "08d65b78-cd92-4dd2-ea99-aadab7fcae15"
      },
      "source": [
        "#page_views / market_value\n",
        "sns.scatterplot(data=data,x='fpl_points',y='market_value')  "
      ],
      "execution_count": null,
      "outputs": [
        {
          "output_type": "execute_result",
          "data": {
            "text/plain": [
              "<matplotlib.axes._subplots.AxesSubplot at 0x7f687c9a0c18>"
            ]
          },
          "metadata": {
            "tags": []
          },
          "execution_count": 15
        },
        {
          "output_type": "display_data",
          "data": {
            "image/png": "[encoded data removed]",
            "text/plain": [
              "<Figure size 432x288 with 1 Axes>"
            ]
          },
          "metadata": {
            "tags": [],
            "needs_background": "light"
          }
        }
      ]
    },
    {
      "cell_type": "code",
      "metadata": {
        "id": "8JEfQoaPW_v2",
        "colab": {
          "base_uri": "https://localhost:8080/",
          "height": 415
        },
        "outputId": "59b096bf-806f-41b1-f9ea-33658ab3a622"
      },
      "source": [
        "from matplotlib import pyplot as plt\n",
        "\n",
        "fig_size = plt.rcParams[\"figure.figsize\"]\n",
        "fig_size[0] = 30\n",
        "fig_size[1] = 10\n",
        "plt.rcParams[\"figure.figsize\"] = fig_size\n",
        "sns.set(font_scale=1.5)\n",
        "df_mini=data.loc[:,['club','position_cat','market_value']]\n",
        "df_mini"
      ],
      "execution_count": null,
      "outputs": [
        {
          "output_type": "execute_result",
          "data": {
            "text/html": [
              "<div>\n",
              "<style scoped>\n",
              "    .dataframe tbody tr th:only-of-type {\n",
              "        vertical-align: middle;\n",
              "    }\n",
              "\n",
              "    .dataframe tbody tr th {\n",
              "        vertical-align: top;\n",
              "    }\n",
              "\n",
              "    .dataframe thead th {\n",
              "        text-align: right;\n",
              "    }\n",
              "</style>\n",
              "<table border=\"1\" class=\"dataframe\">\n",
              "  <thead>\n",
              "    <tr style=\"text-align: right;\">\n",
              "      <th></th>\n",
              "      <th>club</th>\n",
              "      <th>position_cat</th>\n",
              "      <th>market_value</th>\n",
              "    </tr>\n",
              "  </thead>\n",
              "  <tbody>\n",
              "    <tr>\n",
              "      <th>0</th>\n",
              "      <td>Arsenal</td>\n",
              "      <td>1</td>\n",
              "      <td>65.0</td>\n",
              "    </tr>\n",
              "    <tr>\n",
              "      <th>1</th>\n",
              "      <td>Arsenal</td>\n",
              "      <td>1</td>\n",
              "      <td>50.0</td>\n",
              "    </tr>\n",
              "    <tr>\n",
              "      <th>2</th>\n",
              "      <td>Arsenal</td>\n",
              "      <td>4</td>\n",
              "      <td>7.0</td>\n",
              "    </tr>\n",
              "    <tr>\n",
              "      <th>3</th>\n",
              "      <td>Arsenal</td>\n",
              "      <td>1</td>\n",
              "      <td>20.0</td>\n",
              "    </tr>\n",
              "    <tr>\n",
              "      <th>4</th>\n",
              "      <td>Arsenal</td>\n",
              "      <td>3</td>\n",
              "      <td>22.0</td>\n",
              "    </tr>\n",
              "    <tr>\n",
              "      <th>...</th>\n",
              "      <td>...</td>\n",
              "      <td>...</td>\n",
              "      <td>...</td>\n",
              "    </tr>\n",
              "    <tr>\n",
              "      <th>456</th>\n",
              "      <td>West+Ham</td>\n",
              "      <td>2</td>\n",
              "      <td>5.0</td>\n",
              "    </tr>\n",
              "    <tr>\n",
              "      <th>457</th>\n",
              "      <td>West+Ham</td>\n",
              "      <td>3</td>\n",
              "      <td>7.0</td>\n",
              "    </tr>\n",
              "    <tr>\n",
              "      <th>458</th>\n",
              "      <td>West+Ham</td>\n",
              "      <td>3</td>\n",
              "      <td>4.5</td>\n",
              "    </tr>\n",
              "    <tr>\n",
              "      <th>459</th>\n",
              "      <td>West+Ham</td>\n",
              "      <td>1</td>\n",
              "      <td>1.0</td>\n",
              "    </tr>\n",
              "    <tr>\n",
              "      <th>460</th>\n",
              "      <td>West+Ham</td>\n",
              "      <td>1</td>\n",
              "      <td>10.0</td>\n",
              "    </tr>\n",
              "  </tbody>\n",
              "</table>\n",
              "<p>461 rows × 3 columns</p>\n",
              "</div>"
            ],
            "text/plain": [
              "         club  position_cat  market_value\n",
              "0     Arsenal             1          65.0\n",
              "1     Arsenal             1          50.0\n",
              "2     Arsenal             4           7.0\n",
              "3     Arsenal             1          20.0\n",
              "4     Arsenal             3          22.0\n",
              "..        ...           ...           ...\n",
              "456  West+Ham             2           5.0\n",
              "457  West+Ham             3           7.0\n",
              "458  West+Ham             3           4.5\n",
              "459  West+Ham             1           1.0\n",
              "460  West+Ham             1          10.0\n",
              "\n",
              "[461 rows x 3 columns]"
            ]
          },
          "metadata": {
            "tags": []
          },
          "execution_count": 16
        }
      ]
    },
    {
      "cell_type": "code",
      "metadata": {
        "id": "z71ctuFeXDOU",
        "colab": {
          "base_uri": "https://localhost:8080/",
          "height": 415
        },
        "outputId": "7c99a2a7-eba3-4809-beea-77f4fbda46e0"
      },
      "source": [
        "df_mini1=df_mini.groupby(['club','position_cat'])\n",
        "df_mini2=df_mini1.mean()\n",
        "df_mini2=df_mini2.reset_index()\n",
        "df_mini2"
      ],
      "execution_count": null,
      "outputs": [
        {
          "output_type": "execute_result",
          "data": {
            "text/html": [
              "<div>\n",
              "<style scoped>\n",
              "    .dataframe tbody tr th:only-of-type {\n",
              "        vertical-align: middle;\n",
              "    }\n",
              "\n",
              "    .dataframe tbody tr th {\n",
              "        vertical-align: top;\n",
              "    }\n",
              "\n",
              "    .dataframe thead th {\n",
              "        text-align: right;\n",
              "    }\n",
              "</style>\n",
              "<table border=\"1\" class=\"dataframe\">\n",
              "  <thead>\n",
              "    <tr style=\"text-align: right;\">\n",
              "      <th></th>\n",
              "      <th>club</th>\n",
              "      <th>position_cat</th>\n",
              "      <th>market_value</th>\n",
              "    </tr>\n",
              "  </thead>\n",
              "  <tbody>\n",
              "    <tr>\n",
              "      <th>0</th>\n",
              "      <td>Arsenal</td>\n",
              "      <td>1</td>\n",
              "      <td>29.6250</td>\n",
              "    </tr>\n",
              "    <tr>\n",
              "      <th>1</th>\n",
              "      <td>Arsenal</td>\n",
              "      <td>2</td>\n",
              "      <td>21.0000</td>\n",
              "    </tr>\n",
              "    <tr>\n",
              "      <th>2</th>\n",
              "      <td>Arsenal</td>\n",
              "      <td>3</td>\n",
              "      <td>15.1000</td>\n",
              "    </tr>\n",
              "    <tr>\n",
              "      <th>3</th>\n",
              "      <td>Arsenal</td>\n",
              "      <td>4</td>\n",
              "      <td>5.0000</td>\n",
              "    </tr>\n",
              "    <tr>\n",
              "      <th>4</th>\n",
              "      <td>Bournemouth</td>\n",
              "      <td>1</td>\n",
              "      <td>6.3500</td>\n",
              "    </tr>\n",
              "    <tr>\n",
              "      <th>...</th>\n",
              "      <td>...</td>\n",
              "      <td>...</td>\n",
              "      <td>...</td>\n",
              "    </tr>\n",
              "    <tr>\n",
              "      <th>75</th>\n",
              "      <td>West+Brom</td>\n",
              "      <td>4</td>\n",
              "      <td>2.7500</td>\n",
              "    </tr>\n",
              "    <tr>\n",
              "      <th>76</th>\n",
              "      <td>West+Ham</td>\n",
              "      <td>1</td>\n",
              "      <td>11.5000</td>\n",
              "    </tr>\n",
              "    <tr>\n",
              "      <th>77</th>\n",
              "      <td>West+Ham</td>\n",
              "      <td>2</td>\n",
              "      <td>8.2500</td>\n",
              "    </tr>\n",
              "    <tr>\n",
              "      <th>78</th>\n",
              "      <td>West+Ham</td>\n",
              "      <td>3</td>\n",
              "      <td>7.3125</td>\n",
              "    </tr>\n",
              "    <tr>\n",
              "      <th>79</th>\n",
              "      <td>West+Ham</td>\n",
              "      <td>4</td>\n",
              "      <td>5.2500</td>\n",
              "    </tr>\n",
              "  </tbody>\n",
              "</table>\n",
              "<p>80 rows × 3 columns</p>\n",
              "</div>"
            ],
            "text/plain": [
              "           club  position_cat  market_value\n",
              "0       Arsenal             1       29.6250\n",
              "1       Arsenal             2       21.0000\n",
              "2       Arsenal             3       15.1000\n",
              "3       Arsenal             4        5.0000\n",
              "4   Bournemouth             1        6.3500\n",
              "..          ...           ...           ...\n",
              "75    West+Brom             4        2.7500\n",
              "76     West+Ham             1       11.5000\n",
              "77     West+Ham             2        8.2500\n",
              "78     West+Ham             3        7.3125\n",
              "79     West+Ham             4        5.2500\n",
              "\n",
              "[80 rows x 3 columns]"
            ]
          },
          "metadata": {
            "tags": []
          },
          "execution_count": 17
        }
      ]
    },
    {
      "cell_type": "code",
      "metadata": {
        "id": "a2qAtF3-XGKo",
        "colab": {
          "base_uri": "https://localhost:8080/",
          "height": 437
        },
        "outputId": "1ddc2916-071d-4779-932e-5b7321a51cc6"
      },
      "source": [
        "#position_cat / market_value / club  \n",
        "sns.barplot(data=df_mini2,x='club',y='market_value',hue='position_cat')   "
      ],
      "execution_count": null,
      "outputs": [
        {
          "output_type": "execute_result",
          "data": {
            "text/plain": [
              "<matplotlib.axes._subplots.AxesSubplot at 0x7f687cb5b828>"
            ]
          },
          "metadata": {
            "tags": []
          },
          "execution_count": 18
        },
        {
          "output_type": "display_data",
          "data": {
            "image/png": "[encoded data removed]",
            "text/plain": [
              "<Figure size 2160x720 with 1 Axes>"
            ]
          },
          "metadata": {
            "tags": []
          }
        }
      ]
    },
    {
      "cell_type": "code",
      "metadata": {
        "id": "zclpdWkmXJsK",
        "colab": {
          "base_uri": "https://localhost:8080/",
          "height": 415
        },
        "outputId": "165f51a6-2f27-4a76-a8c9-3b295987ba31"
      },
      "source": [
        "df_task1 = data.loc[:,['club','page_views']]\n",
        "df_task1"
      ],
      "execution_count": null,
      "outputs": [
        {
          "output_type": "execute_result",
          "data": {
            "text/html": [
              "<div>\n",
              "<style scoped>\n",
              "    .dataframe tbody tr th:only-of-type {\n",
              "        vertical-align: middle;\n",
              "    }\n",
              "\n",
              "    .dataframe tbody tr th {\n",
              "        vertical-align: top;\n",
              "    }\n",
              "\n",
              "    .dataframe thead th {\n",
              "        text-align: right;\n",
              "    }\n",
              "</style>\n",
              "<table border=\"1\" class=\"dataframe\">\n",
              "  <thead>\n",
              "    <tr style=\"text-align: right;\">\n",
              "      <th></th>\n",
              "      <th>club</th>\n",
              "      <th>page_views</th>\n",
              "    </tr>\n",
              "  </thead>\n",
              "  <tbody>\n",
              "    <tr>\n",
              "      <th>0</th>\n",
              "      <td>Arsenal</td>\n",
              "      <td>4329</td>\n",
              "    </tr>\n",
              "    <tr>\n",
              "      <th>1</th>\n",
              "      <td>Arsenal</td>\n",
              "      <td>4395</td>\n",
              "    </tr>\n",
              "    <tr>\n",
              "      <th>2</th>\n",
              "      <td>Arsenal</td>\n",
              "      <td>1529</td>\n",
              "    </tr>\n",
              "    <tr>\n",
              "      <th>3</th>\n",
              "      <td>Arsenal</td>\n",
              "      <td>2393</td>\n",
              "    </tr>\n",
              "    <tr>\n",
              "      <th>4</th>\n",
              "      <td>Arsenal</td>\n",
              "      <td>912</td>\n",
              "    </tr>\n",
              "    <tr>\n",
              "      <th>...</th>\n",
              "      <td>...</td>\n",
              "      <td>...</td>\n",
              "    </tr>\n",
              "    <tr>\n",
              "      <th>456</th>\n",
              "      <td>West+Ham</td>\n",
              "      <td>288</td>\n",
              "    </tr>\n",
              "    <tr>\n",
              "      <th>457</th>\n",
              "      <td>West+Ham</td>\n",
              "      <td>199</td>\n",
              "    </tr>\n",
              "    <tr>\n",
              "      <th>458</th>\n",
              "      <td>West+Ham</td>\n",
              "      <td>198</td>\n",
              "    </tr>\n",
              "    <tr>\n",
              "      <th>459</th>\n",
              "      <td>West+Ham</td>\n",
              "      <td>412</td>\n",
              "    </tr>\n",
              "    <tr>\n",
              "      <th>460</th>\n",
              "      <td>West+Ham</td>\n",
              "      <td>214</td>\n",
              "    </tr>\n",
              "  </tbody>\n",
              "</table>\n",
              "<p>461 rows × 2 columns</p>\n",
              "</div>"
            ],
            "text/plain": [
              "         club  page_views\n",
              "0     Arsenal        4329\n",
              "1     Arsenal        4395\n",
              "2     Arsenal        1529\n",
              "3     Arsenal        2393\n",
              "4     Arsenal         912\n",
              "..        ...         ...\n",
              "456  West+Ham         288\n",
              "457  West+Ham         199\n",
              "458  West+Ham         198\n",
              "459  West+Ham         412\n",
              "460  West+Ham         214\n",
              "\n",
              "[461 rows x 2 columns]"
            ]
          },
          "metadata": {
            "tags": []
          },
          "execution_count": 19
        }
      ]
    },
    {
      "cell_type": "code",
      "metadata": {
        "id": "2G1NTrBhXMnG",
        "colab": {
          "base_uri": "https://localhost:8080/",
          "height": 662
        },
        "outputId": "d120ed9c-5de6-4140-bb1d-72394dee0876"
      },
      "source": [
        "grouped_df=df_task1.groupby('club')\n",
        "grouped_mean=grouped_df.mean()\n",
        "grouped_mean=grouped_mean.reset_index()\n",
        "grouped_mean"
      ],
      "execution_count": null,
      "outputs": [
        {
          "output_type": "execute_result",
          "data": {
            "text/html": [
              "<div>\n",
              "<style scoped>\n",
              "    .dataframe tbody tr th:only-of-type {\n",
              "        vertical-align: middle;\n",
              "    }\n",
              "\n",
              "    .dataframe tbody tr th {\n",
              "        vertical-align: top;\n",
              "    }\n",
              "\n",
              "    .dataframe thead th {\n",
              "        text-align: right;\n",
              "    }\n",
              "</style>\n",
              "<table border=\"1\" class=\"dataframe\">\n",
              "  <thead>\n",
              "    <tr style=\"text-align: right;\">\n",
              "      <th></th>\n",
              "      <th>club</th>\n",
              "      <th>page_views</th>\n",
              "    </tr>\n",
              "  </thead>\n",
              "  <tbody>\n",
              "    <tr>\n",
              "      <th>0</th>\n",
              "      <td>Arsenal</td>\n",
              "      <td>1402.785714</td>\n",
              "    </tr>\n",
              "    <tr>\n",
              "      <th>1</th>\n",
              "      <td>Bournemouth</td>\n",
              "      <td>508.458333</td>\n",
              "    </tr>\n",
              "    <tr>\n",
              "      <th>2</th>\n",
              "      <td>Brighton+and+Hove</td>\n",
              "      <td>198.272727</td>\n",
              "    </tr>\n",
              "    <tr>\n",
              "      <th>3</th>\n",
              "      <td>Burnley</td>\n",
              "      <td>287.833333</td>\n",
              "    </tr>\n",
              "    <tr>\n",
              "      <th>4</th>\n",
              "      <td>Chelsea</td>\n",
              "      <td>1773.800000</td>\n",
              "    </tr>\n",
              "    <tr>\n",
              "      <th>5</th>\n",
              "      <td>Crystal+Palace</td>\n",
              "      <td>455.428571</td>\n",
              "    </tr>\n",
              "    <tr>\n",
              "      <th>6</th>\n",
              "      <td>Everton</td>\n",
              "      <td>908.785714</td>\n",
              "    </tr>\n",
              "    <tr>\n",
              "      <th>7</th>\n",
              "      <td>Huddersfield</td>\n",
              "      <td>139.785714</td>\n",
              "    </tr>\n",
              "    <tr>\n",
              "      <th>8</th>\n",
              "      <td>Leicester+City</td>\n",
              "      <td>712.750000</td>\n",
              "    </tr>\n",
              "    <tr>\n",
              "      <th>9</th>\n",
              "      <td>Liverpool</td>\n",
              "      <td>1195.296296</td>\n",
              "    </tr>\n",
              "    <tr>\n",
              "      <th>10</th>\n",
              "      <td>Manchester+City</td>\n",
              "      <td>1474.350000</td>\n",
              "    </tr>\n",
              "    <tr>\n",
              "      <th>11</th>\n",
              "      <td>Manchester+United</td>\n",
              "      <td>1815.360000</td>\n",
              "    </tr>\n",
              "    <tr>\n",
              "      <th>12</th>\n",
              "      <td>Newcastle+United</td>\n",
              "      <td>411.380952</td>\n",
              "    </tr>\n",
              "    <tr>\n",
              "      <th>13</th>\n",
              "      <td>Southampton</td>\n",
              "      <td>473.956522</td>\n",
              "    </tr>\n",
              "    <tr>\n",
              "      <th>14</th>\n",
              "      <td>Stoke+City</td>\n",
              "      <td>562.954545</td>\n",
              "    </tr>\n",
              "    <tr>\n",
              "      <th>15</th>\n",
              "      <td>Swansea</td>\n",
              "      <td>392.680000</td>\n",
              "    </tr>\n",
              "    <tr>\n",
              "      <th>16</th>\n",
              "      <td>Tottenham</td>\n",
              "      <td>1213.950000</td>\n",
              "    </tr>\n",
              "    <tr>\n",
              "      <th>17</th>\n",
              "      <td>Watford</td>\n",
              "      <td>366.708333</td>\n",
              "    </tr>\n",
              "    <tr>\n",
              "      <th>18</th>\n",
              "      <td>West+Brom</td>\n",
              "      <td>345.315789</td>\n",
              "    </tr>\n",
              "    <tr>\n",
              "      <th>19</th>\n",
              "      <td>West+Ham</td>\n",
              "      <td>502.000000</td>\n",
              "    </tr>\n",
              "  </tbody>\n",
              "</table>\n",
              "</div>"
            ],
            "text/plain": [
              "                 club   page_views\n",
              "0             Arsenal  1402.785714\n",
              "1         Bournemouth   508.458333\n",
              "2   Brighton+and+Hove   198.272727\n",
              "3             Burnley   287.833333\n",
              "4             Chelsea  1773.800000\n",
              "5      Crystal+Palace   455.428571\n",
              "6             Everton   908.785714\n",
              "7        Huddersfield   139.785714\n",
              "8      Leicester+City   712.750000\n",
              "9           Liverpool  1195.296296\n",
              "10    Manchester+City  1474.350000\n",
              "11  Manchester+United  1815.360000\n",
              "12   Newcastle+United   411.380952\n",
              "13        Southampton   473.956522\n",
              "14         Stoke+City   562.954545\n",
              "15            Swansea   392.680000\n",
              "16          Tottenham  1213.950000\n",
              "17            Watford   366.708333\n",
              "18          West+Brom   345.315789\n",
              "19           West+Ham   502.000000"
            ]
          },
          "metadata": {
            "tags": []
          },
          "execution_count": 20
        }
      ]
    },
    {
      "cell_type": "code",
      "metadata": {
        "id": "8utxGs_RXPlK",
        "colab": {
          "base_uri": "https://localhost:8080/",
          "height": 431
        },
        "outputId": "7c0a608f-b5a6-44ab-dd5a-1129175600b7"
      },
      "source": [
        "grouped_mean.sort_values('page_views',axis=0,na_position='last',inplace=True,ascending=False)\n",
        "sns.barplot(data=grouped_mean,x='club',y='page_views')"
      ],
      "execution_count": null,
      "outputs": [
        {
          "output_type": "execute_result",
          "data": {
            "text/plain": [
              "<matplotlib.axes._subplots.AxesSubplot at 0x7f68817f4048>"
            ]
          },
          "metadata": {
            "tags": []
          },
          "execution_count": 21
        },
        {
          "output_type": "display_data",
          "data": {
            "image/png": "[encoded data removed]",
            "text/plain": [
              "<Figure size 2160x720 with 1 Axes>"
            ]
          },
          "metadata": {
            "tags": []
          }
        }
      ]
    },
    {
      "cell_type": "code",
      "metadata": {
        "id": "WCmRQWfeXT5f",
        "colab": {
          "base_uri": "https://localhost:8080/",
          "height": 415
        },
        "outputId": "4504eab8-de70-42f9-c911-a7205a50baaa"
      },
      "source": [
        "df_task2=data.loc[:,['club','market_value']]\n",
        "df_task2"
      ],
      "execution_count": null,
      "outputs": [
        {
          "output_type": "execute_result",
          "data": {
            "text/html": [
              "<div>\n",
              "<style scoped>\n",
              "    .dataframe tbody tr th:only-of-type {\n",
              "        vertical-align: middle;\n",
              "    }\n",
              "\n",
              "    .dataframe tbody tr th {\n",
              "        vertical-align: top;\n",
              "    }\n",
              "\n",
              "    .dataframe thead th {\n",
              "        text-align: right;\n",
              "    }\n",
              "</style>\n",
              "<table border=\"1\" class=\"dataframe\">\n",
              "  <thead>\n",
              "    <tr style=\"text-align: right;\">\n",
              "      <th></th>\n",
              "      <th>club</th>\n",
              "      <th>market_value</th>\n",
              "    </tr>\n",
              "  </thead>\n",
              "  <tbody>\n",
              "    <tr>\n",
              "      <th>0</th>\n",
              "      <td>Arsenal</td>\n",
              "      <td>65.0</td>\n",
              "    </tr>\n",
              "    <tr>\n",
              "      <th>1</th>\n",
              "      <td>Arsenal</td>\n",
              "      <td>50.0</td>\n",
              "    </tr>\n",
              "    <tr>\n",
              "      <th>2</th>\n",
              "      <td>Arsenal</td>\n",
              "      <td>7.0</td>\n",
              "    </tr>\n",
              "    <tr>\n",
              "      <th>3</th>\n",
              "      <td>Arsenal</td>\n",
              "      <td>20.0</td>\n",
              "    </tr>\n",
              "    <tr>\n",
              "      <th>4</th>\n",
              "      <td>Arsenal</td>\n",
              "      <td>22.0</td>\n",
              "    </tr>\n",
              "    <tr>\n",
              "      <th>...</th>\n",
              "      <td>...</td>\n",
              "      <td>...</td>\n",
              "    </tr>\n",
              "    <tr>\n",
              "      <th>456</th>\n",
              "      <td>West+Ham</td>\n",
              "      <td>5.0</td>\n",
              "    </tr>\n",
              "    <tr>\n",
              "      <th>457</th>\n",
              "      <td>West+Ham</td>\n",
              "      <td>7.0</td>\n",
              "    </tr>\n",
              "    <tr>\n",
              "      <th>458</th>\n",
              "      <td>West+Ham</td>\n",
              "      <td>4.5</td>\n",
              "    </tr>\n",
              "    <tr>\n",
              "      <th>459</th>\n",
              "      <td>West+Ham</td>\n",
              "      <td>1.0</td>\n",
              "    </tr>\n",
              "    <tr>\n",
              "      <th>460</th>\n",
              "      <td>West+Ham</td>\n",
              "      <td>10.0</td>\n",
              "    </tr>\n",
              "  </tbody>\n",
              "</table>\n",
              "<p>461 rows × 2 columns</p>\n",
              "</div>"
            ],
            "text/plain": [
              "         club  market_value\n",
              "0     Arsenal          65.0\n",
              "1     Arsenal          50.0\n",
              "2     Arsenal           7.0\n",
              "3     Arsenal          20.0\n",
              "4     Arsenal          22.0\n",
              "..        ...           ...\n",
              "456  West+Ham           5.0\n",
              "457  West+Ham           7.0\n",
              "458  West+Ham           4.5\n",
              "459  West+Ham           1.0\n",
              "460  West+Ham          10.0\n",
              "\n",
              "[461 rows x 2 columns]"
            ]
          },
          "metadata": {
            "tags": []
          },
          "execution_count": 22
        }
      ]
    },
    {
      "cell_type": "code",
      "metadata": {
        "id": "OER95IxQXXB1",
        "colab": {
          "base_uri": "https://localhost:8080/",
          "height": 662
        },
        "outputId": "3c250b4a-035a-4bc0-d12a-3bae4bed5223"
      },
      "source": [
        "df_grouped2=df_task2.groupby('club')\n",
        "df_mean=df_grouped2.mean()\n",
        "df_mean=df_mean.reset_index()\n",
        "df_mean"
      ],
      "execution_count": null,
      "outputs": [
        {
          "output_type": "execute_result",
          "data": {
            "text/html": [
              "<div>\n",
              "<style scoped>\n",
              "    .dataframe tbody tr th:only-of-type {\n",
              "        vertical-align: middle;\n",
              "    }\n",
              "\n",
              "    .dataframe tbody tr th {\n",
              "        vertical-align: top;\n",
              "    }\n",
              "\n",
              "    .dataframe thead th {\n",
              "        text-align: right;\n",
              "    }\n",
              "</style>\n",
              "<table border=\"1\" class=\"dataframe\">\n",
              "  <thead>\n",
              "    <tr style=\"text-align: right;\">\n",
              "      <th></th>\n",
              "      <th>club</th>\n",
              "      <th>market_value</th>\n",
              "    </tr>\n",
              "  </thead>\n",
              "  <tbody>\n",
              "    <tr>\n",
              "      <th>0</th>\n",
              "      <td>Arsenal</td>\n",
              "      <td>19.642857</td>\n",
              "    </tr>\n",
              "    <tr>\n",
              "      <th>1</th>\n",
              "      <td>Bournemouth</td>\n",
              "      <td>4.895833</td>\n",
              "    </tr>\n",
              "    <tr>\n",
              "      <th>2</th>\n",
              "      <td>Brighton+and+Hove</td>\n",
              "      <td>2.522727</td>\n",
              "    </tr>\n",
              "    <tr>\n",
              "      <th>3</th>\n",
              "      <td>Burnley</td>\n",
              "      <td>3.958333</td>\n",
              "    </tr>\n",
              "    <tr>\n",
              "      <th>4</th>\n",
              "      <td>Chelsea</td>\n",
              "      <td>27.677500</td>\n",
              "    </tr>\n",
              "    <tr>\n",
              "      <th>5</th>\n",
              "      <td>Crystal+Palace</td>\n",
              "      <td>7.726190</td>\n",
              "    </tr>\n",
              "    <tr>\n",
              "      <th>6</th>\n",
              "      <td>Everton</td>\n",
              "      <td>10.098214</td>\n",
              "    </tr>\n",
              "    <tr>\n",
              "      <th>7</th>\n",
              "      <td>Huddersfield</td>\n",
              "      <td>1.791071</td>\n",
              "    </tr>\n",
              "    <tr>\n",
              "      <th>8</th>\n",
              "      <td>Leicester+City</td>\n",
              "      <td>8.645833</td>\n",
              "    </tr>\n",
              "    <tr>\n",
              "      <th>9</th>\n",
              "      <td>Liverpool</td>\n",
              "      <td>16.314815</td>\n",
              "    </tr>\n",
              "    <tr>\n",
              "      <th>10</th>\n",
              "      <td>Manchester+City</td>\n",
              "      <td>28.200000</td>\n",
              "    </tr>\n",
              "    <tr>\n",
              "      <th>11</th>\n",
              "      <td>Manchester+United</td>\n",
              "      <td>20.564000</td>\n",
              "    </tr>\n",
              "    <tr>\n",
              "      <th>12</th>\n",
              "      <td>Newcastle+United</td>\n",
              "      <td>5.202381</td>\n",
              "    </tr>\n",
              "    <tr>\n",
              "      <th>13</th>\n",
              "      <td>Southampton</td>\n",
              "      <td>10.000000</td>\n",
              "    </tr>\n",
              "    <tr>\n",
              "      <th>14</th>\n",
              "      <td>Stoke+City</td>\n",
              "      <td>6.818182</td>\n",
              "    </tr>\n",
              "    <tr>\n",
              "      <th>15</th>\n",
              "      <td>Swansea</td>\n",
              "      <td>5.560000</td>\n",
              "    </tr>\n",
              "    <tr>\n",
              "      <th>16</th>\n",
              "      <td>Tottenham</td>\n",
              "      <td>23.000000</td>\n",
              "    </tr>\n",
              "    <tr>\n",
              "      <th>17</th>\n",
              "      <td>Watford</td>\n",
              "      <td>5.166667</td>\n",
              "    </tr>\n",
              "    <tr>\n",
              "      <th>18</th>\n",
              "      <td>West+Brom</td>\n",
              "      <td>5.328947</td>\n",
              "    </tr>\n",
              "    <tr>\n",
              "      <th>19</th>\n",
              "      <td>West+Ham</td>\n",
              "      <td>8.818182</td>\n",
              "    </tr>\n",
              "  </tbody>\n",
              "</table>\n",
              "</div>"
            ],
            "text/plain": [
              "                 club  market_value\n",
              "0             Arsenal     19.642857\n",
              "1         Bournemouth      4.895833\n",
              "2   Brighton+and+Hove      2.522727\n",
              "3             Burnley      3.958333\n",
              "4             Chelsea     27.677500\n",
              "5      Crystal+Palace      7.726190\n",
              "6             Everton     10.098214\n",
              "7        Huddersfield      1.791071\n",
              "8      Leicester+City      8.645833\n",
              "9           Liverpool     16.314815\n",
              "10    Manchester+City     28.200000\n",
              "11  Manchester+United     20.564000\n",
              "12   Newcastle+United      5.202381\n",
              "13        Southampton     10.000000\n",
              "14         Stoke+City      6.818182\n",
              "15            Swansea      5.560000\n",
              "16          Tottenham     23.000000\n",
              "17            Watford      5.166667\n",
              "18          West+Brom      5.328947\n",
              "19           West+Ham      8.818182"
            ]
          },
          "metadata": {
            "tags": []
          },
          "execution_count": 23
        }
      ]
    },
    {
      "cell_type": "code",
      "metadata": {
        "id": "ce0T4EwHXZ6q",
        "colab": {
          "base_uri": "https://localhost:8080/",
          "height": 436
        },
        "outputId": "3334ec12-73d5-4fd9-db1d-7b8b132784dc"
      },
      "source": [
        "df_mean.sort_values('market_value',axis=0,ascending=False,inplace=True,na_position='last')\n",
        "sns.barplot(data=df_mean,x='club',y='market_value')"
      ],
      "execution_count": null,
      "outputs": [
        {
          "output_type": "execute_result",
          "data": {
            "text/plain": [
              "<matplotlib.axes._subplots.AxesSubplot at 0x7f6881626208>"
            ]
          },
          "metadata": {
            "tags": []
          },
          "execution_count": 24
        },
        {
          "output_type": "display_data",
          "data": {
            "image/png": "[encoded data removed]",
            "text/plain": [
              "<Figure size 2160x720 with 1 Axes>"
            ]
          },
          "metadata": {
            "tags": []
          }
        }
      ]
    },
    {
      "cell_type": "code",
      "metadata": {
        "id": "w65aEHEiXbx3",
        "colab": {
          "base_uri": "https://localhost:8080/",
          "height": 436
        },
        "outputId": "5ef558e9-39b5-4d8f-da13-2503942c572a"
      },
      "source": [
        "sns.countplot(data=data,x='region')"
      ],
      "execution_count": null,
      "outputs": [
        {
          "output_type": "execute_result",
          "data": {
            "text/plain": [
              "<matplotlib.axes._subplots.AxesSubplot at 0x7f6880be14e0>"
            ]
          },
          "metadata": {
            "tags": []
          },
          "execution_count": 25
        },
        {
          "output_type": "display_data",
          "data": {
            "image/png": "[encoded data removed]",
            "text/plain": [
              "<Figure size 2160x720 with 1 Axes>"
            ]
          },
          "metadata": {
            "tags": []
          }
        }
      ]
    },
    {
      "cell_type": "code",
      "metadata": {
        "id": "sdTMJd5YXgZG",
        "colab": {
          "base_uri": "https://localhost:8080/",
          "height": 415
        },
        "outputId": "d23df6ab-760c-4c6b-d723-7307a0f06725"
      },
      "source": [
        "df_task4=data.loc[:,['region','market_value']]\n",
        "df_task4"
      ],
      "execution_count": null,
      "outputs": [
        {
          "output_type": "execute_result",
          "data": {
            "text/html": [
              "<div>\n",
              "<style scoped>\n",
              "    .dataframe tbody tr th:only-of-type {\n",
              "        vertical-align: middle;\n",
              "    }\n",
              "\n",
              "    .dataframe tbody tr th {\n",
              "        vertical-align: top;\n",
              "    }\n",
              "\n",
              "    .dataframe thead th {\n",
              "        text-align: right;\n",
              "    }\n",
              "</style>\n",
              "<table border=\"1\" class=\"dataframe\">\n",
              "  <thead>\n",
              "    <tr style=\"text-align: right;\">\n",
              "      <th></th>\n",
              "      <th>region</th>\n",
              "      <th>market_value</th>\n",
              "    </tr>\n",
              "  </thead>\n",
              "  <tbody>\n",
              "    <tr>\n",
              "      <th>0</th>\n",
              "      <td>3</td>\n",
              "      <td>65.0</td>\n",
              "    </tr>\n",
              "    <tr>\n",
              "      <th>1</th>\n",
              "      <td>2</td>\n",
              "      <td>50.0</td>\n",
              "    </tr>\n",
              "    <tr>\n",
              "      <th>2</th>\n",
              "      <td>2</td>\n",
              "      <td>7.0</td>\n",
              "    </tr>\n",
              "    <tr>\n",
              "      <th>3</th>\n",
              "      <td>1</td>\n",
              "      <td>20.0</td>\n",
              "    </tr>\n",
              "    <tr>\n",
              "      <th>4</th>\n",
              "      <td>2</td>\n",
              "      <td>22.0</td>\n",
              "    </tr>\n",
              "    <tr>\n",
              "      <th>...</th>\n",
              "      <td>...</td>\n",
              "      <td>...</td>\n",
              "    </tr>\n",
              "    <tr>\n",
              "      <th>456</th>\n",
              "      <td>2</td>\n",
              "      <td>5.0</td>\n",
              "    </tr>\n",
              "    <tr>\n",
              "      <th>457</th>\n",
              "      <td>4</td>\n",
              "      <td>7.0</td>\n",
              "    </tr>\n",
              "    <tr>\n",
              "      <th>458</th>\n",
              "      <td>1</td>\n",
              "      <td>4.5</td>\n",
              "    </tr>\n",
              "    <tr>\n",
              "      <th>459</th>\n",
              "      <td>1</td>\n",
              "      <td>1.0</td>\n",
              "    </tr>\n",
              "    <tr>\n",
              "      <th>460</th>\n",
              "      <td>4</td>\n",
              "      <td>10.0</td>\n",
              "    </tr>\n",
              "  </tbody>\n",
              "</table>\n",
              "<p>461 rows × 2 columns</p>\n",
              "</div>"
            ],
            "text/plain": [
              "     region  market_value\n",
              "0         3          65.0\n",
              "1         2          50.0\n",
              "2         2           7.0\n",
              "3         1          20.0\n",
              "4         2          22.0\n",
              "..      ...           ...\n",
              "456       2           5.0\n",
              "457       4           7.0\n",
              "458       1           4.5\n",
              "459       1           1.0\n",
              "460       4          10.0\n",
              "\n",
              "[461 rows x 2 columns]"
            ]
          },
          "metadata": {
            "tags": []
          },
          "execution_count": 26
        }
      ]
    },
    {
      "cell_type": "code",
      "metadata": {
        "id": "fDccy1cVXjWx",
        "colab": {
          "base_uri": "https://localhost:8080/",
          "height": 171
        },
        "outputId": "49f0c981-251a-4a43-93be-7cc2c9102450"
      },
      "source": [
        "grouped_4 = df_task4.groupby('region')\n",
        "mean_4 = grouped_4.mean()\n",
        "mean_4 = mean_4.reset_index()\n",
        "mean_4"
      ],
      "execution_count": null,
      "outputs": [
        {
          "output_type": "execute_result",
          "data": {
            "text/html": [
              "<div>\n",
              "<style scoped>\n",
              "    .dataframe tbody tr th:only-of-type {\n",
              "        vertical-align: middle;\n",
              "    }\n",
              "\n",
              "    .dataframe tbody tr th {\n",
              "        vertical-align: top;\n",
              "    }\n",
              "\n",
              "    .dataframe thead th {\n",
              "        text-align: right;\n",
              "    }\n",
              "</style>\n",
              "<table border=\"1\" class=\"dataframe\">\n",
              "  <thead>\n",
              "    <tr style=\"text-align: right;\">\n",
              "      <th></th>\n",
              "      <th>region</th>\n",
              "      <th>market_value</th>\n",
              "    </tr>\n",
              "  </thead>\n",
              "  <tbody>\n",
              "    <tr>\n",
              "      <th>0</th>\n",
              "      <td>1</td>\n",
              "      <td>8.482372</td>\n",
              "    </tr>\n",
              "    <tr>\n",
              "      <th>1</th>\n",
              "      <td>2</td>\n",
              "      <td>12.208454</td>\n",
              "    </tr>\n",
              "    <tr>\n",
              "      <th>2</th>\n",
              "      <td>3</td>\n",
              "      <td>14.704878</td>\n",
              "    </tr>\n",
              "    <tr>\n",
              "      <th>3</th>\n",
              "      <td>4</td>\n",
              "      <td>10.934211</td>\n",
              "    </tr>\n",
              "  </tbody>\n",
              "</table>\n",
              "</div>"
            ],
            "text/plain": [
              "   region  market_value\n",
              "0       1      8.482372\n",
              "1       2     12.208454\n",
              "2       3     14.704878\n",
              "3       4     10.934211"
            ]
          },
          "metadata": {
            "tags": []
          },
          "execution_count": 27
        }
      ]
    },
    {
      "cell_type": "code",
      "metadata": {
        "id": "cesLWbCaXlAp",
        "colab": {
          "base_uri": "https://localhost:8080/",
          "height": 438
        },
        "outputId": "6b2cd33f-7efa-4016-8d13-334ee5a5fea5"
      },
      "source": [
        "sns.barplot(data=mean_4,x='region',y='market_value')"
      ],
      "execution_count": null,
      "outputs": [
        {
          "output_type": "execute_result",
          "data": {
            "text/plain": [
              "<matplotlib.axes._subplots.AxesSubplot at 0x7f688110be80>"
            ]
          },
          "metadata": {
            "tags": []
          },
          "execution_count": 28
        },
        {
          "output_type": "display_data",
          "data": {
            "image/png": "[encoded data removed]",
            "text/plain": [
              "<Figure size 2160x720 with 1 Axes>"
            ]
          },
          "metadata": {
            "tags": []
          }
        }
      ]
    },
    {
      "cell_type": "code",
      "metadata": {
        "id": "dkkEQ-XkXpUc",
        "colab": {
          "base_uri": "https://localhost:8080/"
        },
        "outputId": "40147025-e668-4150-dce1-bd8fdf7c0c35"
      },
      "source": [
        "# Changing the fpl_sel column from string object to float values\n",
        "lstdf1=[]\n",
        "lst_df=list(data['fpl_sel'])\n",
        "for val in lst_df:\n",
        "    x=val.split('%')\n",
        "    lstdf1.append(x)\n",
        "lstdf1"
      ],
      "execution_count": null,
      "outputs": [
        {
          "output_type": "execute_result",
          "data": {
            "text/plain": [
              "[['17.10', ''],\n",
              " ['5.60', ''],\n",
              " ['5.90', ''],\n",
              " ['1.50', ''],\n",
              " ['0.70', ''],\n",
              " ['13.70', ''],\n",
              " ['2.50', ''],\n",
              " ['4.70', ''],\n",
              " ['4.00', ''],\n",
              " ['1.00', ''],\n",
              " ['2.00', ''],\n",
              " ['1.80', ''],\n",
              " ['0.00', ''],\n",
              " ['5.10', ''],\n",
              " ['1.70', ''],\n",
              " ['0.10', ''],\n",
              " ['0.50', ''],\n",
              " ['0.10', ''],\n",
              " ['0.50', ''],\n",
              " ['1.70', ''],\n",
              " ['0.80', ''],\n",
              " ['0.10', ''],\n",
              " ['4.20', ''],\n",
              " ['0.20', ''],\n",
              " ['0.40', ''],\n",
              " ['1.00', ''],\n",
              " ['6.90', ''],\n",
              " ['26.50', ''],\n",
              " ['10.40', ''],\n",
              " ['15.00', ''],\n",
              " ['19.80', ''],\n",
              " ['6.90', ''],\n",
              " ['2.00', ''],\n",
              " ['0.60', ''],\n",
              " ['0.90', ''],\n",
              " ['1.60', ''],\n",
              " ['4.00', ''],\n",
              " ['0.70', ''],\n",
              " ['0.90', ''],\n",
              " ['0.10', ''],\n",
              " ['0.20', ''],\n",
              " ['11.50', ''],\n",
              " ['0.10', ''],\n",
              " ['1.10', ''],\n",
              " ['0.40', ''],\n",
              " ['0.80', ''],\n",
              " ['0.10', ''],\n",
              " ['1.50', ''],\n",
              " ['0.10', ''],\n",
              " ['0.40', ''],\n",
              " ['3.30', ''],\n",
              " ['9.30', ''],\n",
              " ['2.10', ''],\n",
              " ['1.50', ''],\n",
              " ['4.10', ''],\n",
              " ['0.60', ''],\n",
              " ['8.00', ''],\n",
              " ['0.40', ''],\n",
              " ['0.20', ''],\n",
              " ['3.20', ''],\n",
              " ['0.80', ''],\n",
              " ['0.20', ''],\n",
              " ['4.80', ''],\n",
              " ['0.90', ''],\n",
              " ['0.30', ''],\n",
              " ['0.60', ''],\n",
              " ['0.20', ''],\n",
              " ['0.10', ''],\n",
              " ['0.20', ''],\n",
              " ['0.10', ''],\n",
              " ['0.30', ''],\n",
              " ['1.30', ''],\n",
              " ['0.40', ''],\n",
              " ['0.20', ''],\n",
              " ['13.50', ''],\n",
              " ['2.90', ''],\n",
              " ['1.70', ''],\n",
              " ['13.70', ''],\n",
              " ['2.50', ''],\n",
              " ['1.20', ''],\n",
              " ['1.20', ''],\n",
              " ['0.20', ''],\n",
              " ['0.10', ''],\n",
              " ['0.20', ''],\n",
              " ['0.00', ''],\n",
              " ['0.50', ''],\n",
              " ['0.10', ''],\n",
              " ['0.40', ''],\n",
              " ['0.10', ''],\n",
              " ['0.10', ''],\n",
              " ['1.70', ''],\n",
              " ['0.40', ''],\n",
              " ['2.30', ''],\n",
              " ['3.00', ''],\n",
              " ['12.00', ''],\n",
              " ['12.40', ''],\n",
              " ['12.30', ''],\n",
              " ['7.80', ''],\n",
              " ['18.50', ''],\n",
              " ['20.30', ''],\n",
              " ['7.50', ''],\n",
              " ['9.00', ''],\n",
              " ['0.20', ''],\n",
              " ['5.00', ''],\n",
              " ['13.80', ''],\n",
              " ['0.20', ''],\n",
              " ['1.60', ''],\n",
              " ['0.80', ''],\n",
              " ['0.10', ''],\n",
              " ['0.10', ''],\n",
              " ['6.40', ''],\n",
              " ['1.60', ''],\n",
              " ['20.90', ''],\n",
              " ['10.50', ''],\n",
              " ['2.70', ''],\n",
              " ['4.20', ''],\n",
              " ['10.90', ''],\n",
              " ['2.10', ''],\n",
              " ['1.20', ''],\n",
              " ['1.40', ''],\n",
              " ['0.60', ''],\n",
              " ['2.00', ''],\n",
              " ['1.10', ''],\n",
              " ['0.60', ''],\n",
              " ['0.30', ''],\n",
              " ['0.30', ''],\n",
              " ['0.20', ''],\n",
              " ['0.10', ''],\n",
              " ['0.00', ''],\n",
              " ['0.10', ''],\n",
              " ['0.00', ''],\n",
              " ['16.40', ''],\n",
              " ['2.00', ''],\n",
              " ['0.70', ''],\n",
              " ['10.00', ''],\n",
              " ['0.40', ''],\n",
              " ['4.70', ''],\n",
              " ['3.20', ''],\n",
              " ['13.10', ''],\n",
              " ['6.30', ''],\n",
              " ['14.60', ''],\n",
              " ['0.40', ''],\n",
              " ['1.30', ''],\n",
              " ['20.90', ''],\n",
              " ['0.10', ''],\n",
              " ['0.30', ''],\n",
              " ['1.70', ''],\n",
              " ['1.00', ''],\n",
              " ['2.90', ''],\n",
              " ['0.20', ''],\n",
              " ['0.90', ''],\n",
              " ['0.40', ''],\n",
              " ['0.10', ''],\n",
              " ['0.20', ''],\n",
              " ['0.30', ''],\n",
              " ['0.30', ''],\n",
              " ['1.70', ''],\n",
              " ['0.20', ''],\n",
              " ['0.20', ''],\n",
              " ['3.60', ''],\n",
              " ['2.10', ''],\n",
              " ['2.40', ''],\n",
              " ['0.50', ''],\n",
              " ['0.90', ''],\n",
              " ['0.70', ''],\n",
              " ['1.10', ''],\n",
              " ['0.20', ''],\n",
              " ['1.40', ''],\n",
              " ['1.10', ''],\n",
              " ['1.40', ''],\n",
              " ['0.20', ''],\n",
              " ['0.10', ''],\n",
              " ['2.50', ''],\n",
              " ['0.30', ''],\n",
              " ['0.30', ''],\n",
              " ['0.10', ''],\n",
              " ['0.10', ''],\n",
              " ['0.10', ''],\n",
              " ['0.10', ''],\n",
              " ['0.10', ''],\n",
              " ['0.10', ''],\n",
              " ['0.60', ''],\n",
              " ['2.60', ''],\n",
              " ['0.20', ''],\n",
              " ['0.10', ''],\n",
              " ['0.60', ''],\n",
              " ['1.60', ''],\n",
              " ['0.30', ''],\n",
              " ['0.60', ''],\n",
              " ['1.50', ''],\n",
              " ['1.70', ''],\n",
              " ['2.40', ''],\n",
              " ['3.50', ''],\n",
              " ['1.10', ''],\n",
              " ['0.60', ''],\n",
              " ['5.50', ''],\n",
              " ['0.70', ''],\n",
              " ['1.50', ''],\n",
              " ['0.20', ''],\n",
              " ['3.30', ''],\n",
              " ['1.20', ''],\n",
              " ['0.50', ''],\n",
              " ['1.10', ''],\n",
              " ['0.30', ''],\n",
              " ['0.70', ''],\n",
              " ['1.50', ''],\n",
              " ['0.10', ''],\n",
              " ['0.20', ''],\n",
              " ['0.80', ''],\n",
              " ['0.10', ''],\n",
              " ['0.10', ''],\n",
              " ['0.00', ''],\n",
              " ['0.80', ''],\n",
              " ['20.30', ''],\n",
              " ['30.80', ''],\n",
              " ['5.30', ''],\n",
              " ['7.10', ''],\n",
              " ['10.40', ''],\n",
              " ['6.40', ''],\n",
              " ['4.50', ''],\n",
              " ['1.60', ''],\n",
              " ['1.30', ''],\n",
              " ['6.60', ''],\n",
              " ['2.30', ''],\n",
              " ['0.40', ''],\n",
              " ['1.80', ''],\n",
              " ['4.30', ''],\n",
              " ['0.30', ''],\n",
              " ['0.40', ''],\n",
              " ['0.10', ''],\n",
              " ['0.20', ''],\n",
              " ['0.30', ''],\n",
              " ['0.30', ''],\n",
              " ['0.10', ''],\n",
              " ['0.20', ''],\n",
              " ['0.40', ''],\n",
              " ['0.10', ''],\n",
              " ['12.40', ''],\n",
              " ['0.10', ''],\n",
              " ['2.00', ''],\n",
              " ['17.50', ''],\n",
              " ['9.70', ''],\n",
              " ['3.80', ''],\n",
              " ['18.50', ''],\n",
              " ['3.30', ''],\n",
              " ['8.80', ''],\n",
              " ['3.30', ''],\n",
              " ['1.10', ''],\n",
              " ['2.50', ''],\n",
              " ['0.80', ''],\n",
              " ['1.20', ''],\n",
              " ['15.20', ''],\n",
              " ['2.30', ''],\n",
              " ['6.60', ''],\n",
              " ['1.50', ''],\n",
              " ['1.00', ''],\n",
              " ['0.40', ''],\n",
              " ['0.40', ''],\n",
              " ['4.50', ''],\n",
              " ['4.60', ''],\n",
              " ['45.00', ''],\n",
              " ['26.10', ''],\n",
              " ['6.20', ''],\n",
              " ['19.50', ''],\n",
              " ['10.20', ''],\n",
              " ['3.50', ''],\n",
              " ['1.20', ''],\n",
              " ['7.70', ''],\n",
              " ['0.60', ''],\n",
              " ['0.10', ''],\n",
              " ['4.80', ''],\n",
              " ['4.50', ''],\n",
              " ['0.30', ''],\n",
              " ['0.70', ''],\n",
              " ['0.40', ''],\n",
              " ['1.30', ''],\n",
              " ['0.20', ''],\n",
              " ['0.40', ''],\n",
              " ['1.80', ''],\n",
              " ['0.00', ''],\n",
              " ['0.20', ''],\n",
              " ['1.70', ''],\n",
              " ['0.20', ''],\n",
              " ['1.00', ''],\n",
              " ['17.00', ''],\n",
              " ['13.50', ''],\n",
              " ['1.10', ''],\n",
              " ['5.20', ''],\n",
              " ['0.90', ''],\n",
              " ['3.60', ''],\n",
              " ['1.00', ''],\n",
              " ['2.50', ''],\n",
              " ['2.30', ''],\n",
              " ['1.00', ''],\n",
              " ['0.50', ''],\n",
              " ['4.20', ''],\n",
              " ['2.50', ''],\n",
              " ['0.50', ''],\n",
              " ['1.10', ''],\n",
              " ['2.10', ''],\n",
              " ['0.10', ''],\n",
              " ['0.10', ''],\n",
              " ['11.40', ''],\n",
              " ['1.60', ''],\n",
              " ['2.50', ''],\n",
              " ['2.80', ''],\n",
              " ['7.30', ''],\n",
              " ['11.30', ''],\n",
              " ['11.20', ''],\n",
              " ['4.90', ''],\n",
              " ['16.40', ''],\n",
              " ['2.20', ''],\n",
              " ['4.20', ''],\n",
              " ['1.10', ''],\n",
              " ['0.20', ''],\n",
              " ['4.00', ''],\n",
              " ['2.10', ''],\n",
              " ['0.40', ''],\n",
              " ['0.30', ''],\n",
              " ['0.30', ''],\n",
              " ['0.40', ''],\n",
              " ['0.40', ''],\n",
              " ['5.20', ''],\n",
              " ['0.10', ''],\n",
              " ['0.20', ''],\n",
              " ['0.10', ''],\n",
              " ['0.10', ''],\n",
              " ['0.10', ''],\n",
              " ['0.40', ''],\n",
              " ['6.00', ''],\n",
              " ['0.70', ''],\n",
              " ['1.20', ''],\n",
              " ['1.30', ''],\n",
              " ['1.00', ''],\n",
              " ['1.00', ''],\n",
              " ['3.20', ''],\n",
              " ['2.90', ''],\n",
              " ['0.40', ''],\n",
              " ['0.10', ''],\n",
              " ['0.50', ''],\n",
              " ['0.80', ''],\n",
              " ['0.40', ''],\n",
              " ['1.10', ''],\n",
              " ['0.20', ''],\n",
              " ['0.20', ''],\n",
              " ['0.00', ''],\n",
              " ['0.80', ''],\n",
              " ['0.20', ''],\n",
              " ['2.80', ''],\n",
              " ['0.00', ''],\n",
              " ['0.10', ''],\n",
              " ['8.70', ''],\n",
              " ['0.70', ''],\n",
              " ['6.20', ''],\n",
              " ['0.60', ''],\n",
              " ['1.80', ''],\n",
              " ['2.00', ''],\n",
              " ['0.10', ''],\n",
              " ['0.40', ''],\n",
              " ['0.30', ''],\n",
              " ['4.30', ''],\n",
              " ['0.00', ''],\n",
              " ['2.00', ''],\n",
              " ['0.10', ''],\n",
              " ['0.10', ''],\n",
              " ['0.20', ''],\n",
              " ['18.80', ''],\n",
              " ['0.10', ''],\n",
              " ['0.10', ''],\n",
              " ['0.10', ''],\n",
              " ['0.10', ''],\n",
              " ['0.10', ''],\n",
              " ['0.70', ''],\n",
              " ['1.70', ''],\n",
              " ['0.90', ''],\n",
              " ['3.30', ''],\n",
              " ['38.60', ''],\n",
              " ['35.10', ''],\n",
              " ['12.00', ''],\n",
              " ['1.60', ''],\n",
              " ['12.60', ''],\n",
              " ['9.00', ''],\n",
              " ['13.30', ''],\n",
              " ['3.10', ''],\n",
              " ['3.50', ''],\n",
              " ['1.80', ''],\n",
              " ['0.60', ''],\n",
              " ['1.80', ''],\n",
              " ['0.10', ''],\n",
              " ['17.30', ''],\n",
              " ['0.30', ''],\n",
              " ['0.00', ''],\n",
              " ['0.10', ''],\n",
              " ['0.10', ''],\n",
              " ['0.10', ''],\n",
              " ['0.30', ''],\n",
              " ['8.00', ''],\n",
              " ['3.40', ''],\n",
              " ['2.20', ''],\n",
              " ['0.60', ''],\n",
              " ['0.60', ''],\n",
              " ['0.80', ''],\n",
              " ['0.10', ''],\n",
              " ['0.10', ''],\n",
              " ['0.20', ''],\n",
              " ['0.30', ''],\n",
              " ['0.40', ''],\n",
              " ['0.10', ''],\n",
              " ['0.20', ''],\n",
              " ['0.00', ''],\n",
              " ['0.20', ''],\n",
              " ['0.00', ''],\n",
              " ['0.10', ''],\n",
              " ['5.40', ''],\n",
              " ['2.30', ''],\n",
              " ['0.00', ''],\n",
              " ['0.20', ''],\n",
              " ['0.30', ''],\n",
              " ['0.10', ''],\n",
              " ['0.60', ''],\n",
              " ['11.80', ''],\n",
              " ['2.00', ''],\n",
              " ['5.60', ''],\n",
              " ['20.70', ''],\n",
              " ['2.40', ''],\n",
              " ['6.00', ''],\n",
              " ['0.80', ''],\n",
              " ['0.00', ''],\n",
              " ['1.60', ''],\n",
              " ['0.20', ''],\n",
              " ['0.30', ''],\n",
              " ['2.90', ''],\n",
              " ['0.40', ''],\n",
              " ['0.20', ''],\n",
              " ['0.70', ''],\n",
              " ['0.20', ''],\n",
              " ['0.10', ''],\n",
              " ['5.30', ''],\n",
              " ['1.30', ''],\n",
              " ['6.50', ''],\n",
              " ['7.20', ''],\n",
              " ['0.50', ''],\n",
              " ['0.40', ''],\n",
              " ['2.10', ''],\n",
              " ['3.40', ''],\n",
              " ['0.10', ''],\n",
              " ['0.10', ''],\n",
              " ['0.40', ''],\n",
              " ['0.90', ''],\n",
              " ['0.40', ''],\n",
              " ['0.80', ''],\n",
              " ['1.30', ''],\n",
              " ['0.30', ''],\n",
              " ['0.20', ''],\n",
              " ['1.10', ''],\n",
              " ['2.70', ''],\n",
              " ['0.40', ''],\n",
              " ['0.20', ''],\n",
              " ['0.30', ''],\n",
              " ['5.90', ''],\n",
              " ['0.10', '']]"
            ]
          },
          "metadata": {
            "tags": []
          },
          "execution_count": 29
        }
      ]
    },
    {
      "cell_type": "code",
      "metadata": {
        "id": "7HBQHF_LXs5R",
        "colab": {
          "base_uri": "https://localhost:8080/"
        },
        "outputId": "f719796e-aaf9-4cc3-c1a8-f396932acdba"
      },
      "source": [
        "lst_final=[]\n",
        "for value in lstdf1:\n",
        "    lst_final.append(float(value[0]))\n",
        "lst_final"
      ],
      "execution_count": null,
      "outputs": [
        {
          "output_type": "execute_result",
          "data": {
            "text/plain": [
              "[17.1,\n",
              " 5.6,\n",
              " 5.9,\n",
              " 1.5,\n",
              " 0.7,\n",
              " 13.7,\n",
              " 2.5,\n",
              " 4.7,\n",
              " 4.0,\n",
              " 1.0,\n",
              " 2.0,\n",
              " 1.8,\n",
              " 0.0,\n",
              " 5.1,\n",
              " 1.7,\n",
              " 0.1,\n",
              " 0.5,\n",
              " 0.1,\n",
              " 0.5,\n",
              " 1.7,\n",
              " 0.8,\n",
              " 0.1,\n",
              " 4.2,\n",
              " 0.2,\n",
              " 0.4,\n",
              " 1.0,\n",
              " 6.9,\n",
              " 26.5,\n",
              " 10.4,\n",
              " 15.0,\n",
              " 19.8,\n",
              " 6.9,\n",
              " 2.0,\n",
              " 0.6,\n",
              " 0.9,\n",
              " 1.6,\n",
              " 4.0,\n",
              " 0.7,\n",
              " 0.9,\n",
              " 0.1,\n",
              " 0.2,\n",
              " 11.5,\n",
              " 0.1,\n",
              " 1.1,\n",
              " 0.4,\n",
              " 0.8,\n",
              " 0.1,\n",
              " 1.5,\n",
              " 0.1,\n",
              " 0.4,\n",
              " 3.3,\n",
              " 9.3,\n",
              " 2.1,\n",
              " 1.5,\n",
              " 4.1,\n",
              " 0.6,\n",
              " 8.0,\n",
              " 0.4,\n",
              " 0.2,\n",
              " 3.2,\n",
              " 0.8,\n",
              " 0.2,\n",
              " 4.8,\n",
              " 0.9,\n",
              " 0.3,\n",
              " 0.6,\n",
              " 0.2,\n",
              " 0.1,\n",
              " 0.2,\n",
              " 0.1,\n",
              " 0.3,\n",
              " 1.3,\n",
              " 0.4,\n",
              " 0.2,\n",
              " 13.5,\n",
              " 2.9,\n",
              " 1.7,\n",
              " 13.7,\n",
              " 2.5,\n",
              " 1.2,\n",
              " 1.2,\n",
              " 0.2,\n",
              " 0.1,\n",
              " 0.2,\n",
              " 0.0,\n",
              " 0.5,\n",
              " 0.1,\n",
              " 0.4,\n",
              " 0.1,\n",
              " 0.1,\n",
              " 1.7,\n",
              " 0.4,\n",
              " 2.3,\n",
              " 3.0,\n",
              " 12.0,\n",
              " 12.4,\n",
              " 12.3,\n",
              " 7.8,\n",
              " 18.5,\n",
              " 20.3,\n",
              " 7.5,\n",
              " 9.0,\n",
              " 0.2,\n",
              " 5.0,\n",
              " 13.8,\n",
              " 0.2,\n",
              " 1.6,\n",
              " 0.8,\n",
              " 0.1,\n",
              " 0.1,\n",
              " 6.4,\n",
              " 1.6,\n",
              " 20.9,\n",
              " 10.5,\n",
              " 2.7,\n",
              " 4.2,\n",
              " 10.9,\n",
              " 2.1,\n",
              " 1.2,\n",
              " 1.4,\n",
              " 0.6,\n",
              " 2.0,\n",
              " 1.1,\n",
              " 0.6,\n",
              " 0.3,\n",
              " 0.3,\n",
              " 0.2,\n",
              " 0.1,\n",
              " 0.0,\n",
              " 0.1,\n",
              " 0.0,\n",
              " 16.4,\n",
              " 2.0,\n",
              " 0.7,\n",
              " 10.0,\n",
              " 0.4,\n",
              " 4.7,\n",
              " 3.2,\n",
              " 13.1,\n",
              " 6.3,\n",
              " 14.6,\n",
              " 0.4,\n",
              " 1.3,\n",
              " 20.9,\n",
              " 0.1,\n",
              " 0.3,\n",
              " 1.7,\n",
              " 1.0,\n",
              " 2.9,\n",
              " 0.2,\n",
              " 0.9,\n",
              " 0.4,\n",
              " 0.1,\n",
              " 0.2,\n",
              " 0.3,\n",
              " 0.3,\n",
              " 1.7,\n",
              " 0.2,\n",
              " 0.2,\n",
              " 3.6,\n",
              " 2.1,\n",
              " 2.4,\n",
              " 0.5,\n",
              " 0.9,\n",
              " 0.7,\n",
              " 1.1,\n",
              " 0.2,\n",
              " 1.4,\n",
              " 1.1,\n",
              " 1.4,\n",
              " 0.2,\n",
              " 0.1,\n",
              " 2.5,\n",
              " 0.3,\n",
              " 0.3,\n",
              " 0.1,\n",
              " 0.1,\n",
              " 0.1,\n",
              " 0.1,\n",
              " 0.1,\n",
              " 0.1,\n",
              " 0.6,\n",
              " 2.6,\n",
              " 0.2,\n",
              " 0.1,\n",
              " 0.6,\n",
              " 1.6,\n",
              " 0.3,\n",
              " 0.6,\n",
              " 1.5,\n",
              " 1.7,\n",
              " 2.4,\n",
              " 3.5,\n",
              " 1.1,\n",
              " 0.6,\n",
              " 5.5,\n",
              " 0.7,\n",
              " 1.5,\n",
              " 0.2,\n",
              " 3.3,\n",
              " 1.2,\n",
              " 0.5,\n",
              " 1.1,\n",
              " 0.3,\n",
              " 0.7,\n",
              " 1.5,\n",
              " 0.1,\n",
              " 0.2,\n",
              " 0.8,\n",
              " 0.1,\n",
              " 0.1,\n",
              " 0.0,\n",
              " 0.8,\n",
              " 20.3,\n",
              " 30.8,\n",
              " 5.3,\n",
              " 7.1,\n",
              " 10.4,\n",
              " 6.4,\n",
              " 4.5,\n",
              " 1.6,\n",
              " 1.3,\n",
              " 6.6,\n",
              " 2.3,\n",
              " 0.4,\n",
              " 1.8,\n",
              " 4.3,\n",
              " 0.3,\n",
              " 0.4,\n",
              " 0.1,\n",
              " 0.2,\n",
              " 0.3,\n",
              " 0.3,\n",
              " 0.1,\n",
              " 0.2,\n",
              " 0.4,\n",
              " 0.1,\n",
              " 12.4,\n",
              " 0.1,\n",
              " 2.0,\n",
              " 17.5,\n",
              " 9.7,\n",
              " 3.8,\n",
              " 18.5,\n",
              " 3.3,\n",
              " 8.8,\n",
              " 3.3,\n",
              " 1.1,\n",
              " 2.5,\n",
              " 0.8,\n",
              " 1.2,\n",
              " 15.2,\n",
              " 2.3,\n",
              " 6.6,\n",
              " 1.5,\n",
              " 1.0,\n",
              " 0.4,\n",
              " 0.4,\n",
              " 4.5,\n",
              " 4.6,\n",
              " 45.0,\n",
              " 26.1,\n",
              " 6.2,\n",
              " 19.5,\n",
              " 10.2,\n",
              " 3.5,\n",
              " 1.2,\n",
              " 7.7,\n",
              " 0.6,\n",
              " 0.1,\n",
              " 4.8,\n",
              " 4.5,\n",
              " 0.3,\n",
              " 0.7,\n",
              " 0.4,\n",
              " 1.3,\n",
              " 0.2,\n",
              " 0.4,\n",
              " 1.8,\n",
              " 0.0,\n",
              " 0.2,\n",
              " 1.7,\n",
              " 0.2,\n",
              " 1.0,\n",
              " 17.0,\n",
              " 13.5,\n",
              " 1.1,\n",
              " 5.2,\n",
              " 0.9,\n",
              " 3.6,\n",
              " 1.0,\n",
              " 2.5,\n",
              " 2.3,\n",
              " 1.0,\n",
              " 0.5,\n",
              " 4.2,\n",
              " 2.5,\n",
              " 0.5,\n",
              " 1.1,\n",
              " 2.1,\n",
              " 0.1,\n",
              " 0.1,\n",
              " 11.4,\n",
              " 1.6,\n",
              " 2.5,\n",
              " 2.8,\n",
              " 7.3,\n",
              " 11.3,\n",
              " 11.2,\n",
              " 4.9,\n",
              " 16.4,\n",
              " 2.2,\n",
              " 4.2,\n",
              " 1.1,\n",
              " 0.2,\n",
              " 4.0,\n",
              " 2.1,\n",
              " 0.4,\n",
              " 0.3,\n",
              " 0.3,\n",
              " 0.4,\n",
              " 0.4,\n",
              " 5.2,\n",
              " 0.1,\n",
              " 0.2,\n",
              " 0.1,\n",
              " 0.1,\n",
              " 0.1,\n",
              " 0.4,\n",
              " 6.0,\n",
              " 0.7,\n",
              " 1.2,\n",
              " 1.3,\n",
              " 1.0,\n",
              " 1.0,\n",
              " 3.2,\n",
              " 2.9,\n",
              " 0.4,\n",
              " 0.1,\n",
              " 0.5,\n",
              " 0.8,\n",
              " 0.4,\n",
              " 1.1,\n",
              " 0.2,\n",
              " 0.2,\n",
              " 0.0,\n",
              " 0.8,\n",
              " 0.2,\n",
              " 2.8,\n",
              " 0.0,\n",
              " 0.1,\n",
              " 8.7,\n",
              " 0.7,\n",
              " 6.2,\n",
              " 0.6,\n",
              " 1.8,\n",
              " 2.0,\n",
              " 0.1,\n",
              " 0.4,\n",
              " 0.3,\n",
              " 4.3,\n",
              " 0.0,\n",
              " 2.0,\n",
              " 0.1,\n",
              " 0.1,\n",
              " 0.2,\n",
              " 18.8,\n",
              " 0.1,\n",
              " 0.1,\n",
              " 0.1,\n",
              " 0.1,\n",
              " 0.1,\n",
              " 0.7,\n",
              " 1.7,\n",
              " 0.9,\n",
              " 3.3,\n",
              " 38.6,\n",
              " 35.1,\n",
              " 12.0,\n",
              " 1.6,\n",
              " 12.6,\n",
              " 9.0,\n",
              " 13.3,\n",
              " 3.1,\n",
              " 3.5,\n",
              " 1.8,\n",
              " 0.6,\n",
              " 1.8,\n",
              " 0.1,\n",
              " 17.3,\n",
              " 0.3,\n",
              " 0.0,\n",
              " 0.1,\n",
              " 0.1,\n",
              " 0.1,\n",
              " 0.3,\n",
              " 8.0,\n",
              " 3.4,\n",
              " 2.2,\n",
              " 0.6,\n",
              " 0.6,\n",
              " 0.8,\n",
              " 0.1,\n",
              " 0.1,\n",
              " 0.2,\n",
              " 0.3,\n",
              " 0.4,\n",
              " 0.1,\n",
              " 0.2,\n",
              " 0.0,\n",
              " 0.2,\n",
              " 0.0,\n",
              " 0.1,\n",
              " 5.4,\n",
              " 2.3,\n",
              " 0.0,\n",
              " 0.2,\n",
              " 0.3,\n",
              " 0.1,\n",
              " 0.6,\n",
              " 11.8,\n",
              " 2.0,\n",
              " 5.6,\n",
              " 20.7,\n",
              " 2.4,\n",
              " 6.0,\n",
              " 0.8,\n",
              " 0.0,\n",
              " 1.6,\n",
              " 0.2,\n",
              " 0.3,\n",
              " 2.9,\n",
              " 0.4,\n",
              " 0.2,\n",
              " 0.7,\n",
              " 0.2,\n",
              " 0.1,\n",
              " 5.3,\n",
              " 1.3,\n",
              " 6.5,\n",
              " 7.2,\n",
              " 0.5,\n",
              " 0.4,\n",
              " 2.1,\n",
              " 3.4,\n",
              " 0.1,\n",
              " 0.1,\n",
              " 0.4,\n",
              " 0.9,\n",
              " 0.4,\n",
              " 0.8,\n",
              " 1.3,\n",
              " 0.3,\n",
              " 0.2,\n",
              " 1.1,\n",
              " 2.7,\n",
              " 0.4,\n",
              " 0.2,\n",
              " 0.3,\n",
              " 5.9,\n",
              " 0.1]"
            ]
          },
          "metadata": {
            "tags": []
          },
          "execution_count": 30
        }
      ]
    },
    {
      "cell_type": "code",
      "metadata": {
        "id": "WEUWOtMfXxvc",
        "colab": {
          "base_uri": "https://localhost:8080/",
          "height": 429
        },
        "outputId": "2ca13791-0954-4ff5-b5d8-0efb826e1e60"
      },
      "source": [
        "sns.scatterplot(data=data,x='fpl_points',y='fpl_sel')"
      ],
      "execution_count": null,
      "outputs": [
        {
          "output_type": "execute_result",
          "data": {
            "text/plain": [
              "<matplotlib.axes._subplots.AxesSubplot at 0x7f687c95ec50>"
            ]
          },
          "metadata": {
            "tags": []
          },
          "execution_count": 31
        },
        {
          "output_type": "display_data",
          "data": {
            "image/png": "[encoded data removed]",
            "text/plain": [
              "<Figure size 2160x720 with 1 Axes>"
            ]
          },
          "metadata": {
            "tags": []
          }
        }
      ]
    },
    {
      "cell_type": "code",
      "metadata": {
        "id": "kRcJvzG6X7oF",
        "colab": {
          "base_uri": "https://localhost:8080/",
          "height": 415
        },
        "outputId": "3a1f8cf2-8264-424e-f6d0-09e5dcb57a01"
      },
      "source": [
        "data=data.drop(columns=['name', 'club', 'position', 'nationality', 'fpl_sel'])\n",
        "data"
      ],
      "execution_count": null,
      "outputs": [
        {
          "output_type": "execute_result",
          "data": {
            "text/html": [
              "<div>\n",
              "<style scoped>\n",
              "    .dataframe tbody tr th:only-of-type {\n",
              "        vertical-align: middle;\n",
              "    }\n",
              "\n",
              "    .dataframe tbody tr th {\n",
              "        vertical-align: top;\n",
              "    }\n",
              "\n",
              "    .dataframe thead th {\n",
              "        text-align: right;\n",
              "    }\n",
              "</style>\n",
              "<table border=\"1\" class=\"dataframe\">\n",
              "  <thead>\n",
              "    <tr style=\"text-align: right;\">\n",
              "      <th></th>\n",
              "      <th>age</th>\n",
              "      <th>position_cat</th>\n",
              "      <th>market_value</th>\n",
              "      <th>page_views</th>\n",
              "      <th>fpl_value</th>\n",
              "      <th>fpl_points</th>\n",
              "      <th>region</th>\n",
              "      <th>new_foreign</th>\n",
              "      <th>age_cat</th>\n",
              "      <th>club_id</th>\n",
              "      <th>big_club</th>\n",
              "      <th>new_signing</th>\n",
              "    </tr>\n",
              "  </thead>\n",
              "  <tbody>\n",
              "    <tr>\n",
              "      <th>0</th>\n",
              "      <td>28</td>\n",
              "      <td>1</td>\n",
              "      <td>65.0</td>\n",
              "      <td>4329</td>\n",
              "      <td>12.0</td>\n",
              "      <td>264</td>\n",
              "      <td>3</td>\n",
              "      <td>0</td>\n",
              "      <td>4</td>\n",
              "      <td>1</td>\n",
              "      <td>1</td>\n",
              "      <td>0</td>\n",
              "    </tr>\n",
              "    <tr>\n",
              "      <th>1</th>\n",
              "      <td>28</td>\n",
              "      <td>1</td>\n",
              "      <td>50.0</td>\n",
              "      <td>4395</td>\n",
              "      <td>9.5</td>\n",
              "      <td>167</td>\n",
              "      <td>2</td>\n",
              "      <td>0</td>\n",
              "      <td>4</td>\n",
              "      <td>1</td>\n",
              "      <td>1</td>\n",
              "      <td>0</td>\n",
              "    </tr>\n",
              "    <tr>\n",
              "      <th>2</th>\n",
              "      <td>35</td>\n",
              "      <td>4</td>\n",
              "      <td>7.0</td>\n",
              "      <td>1529</td>\n",
              "      <td>5.5</td>\n",
              "      <td>134</td>\n",
              "      <td>2</td>\n",
              "      <td>0</td>\n",
              "      <td>6</td>\n",
              "      <td>1</td>\n",
              "      <td>1</td>\n",
              "      <td>0</td>\n",
              "    </tr>\n",
              "    <tr>\n",
              "      <th>3</th>\n",
              "      <td>28</td>\n",
              "      <td>1</td>\n",
              "      <td>20.0</td>\n",
              "      <td>2393</td>\n",
              "      <td>7.5</td>\n",
              "      <td>122</td>\n",
              "      <td>1</td>\n",
              "      <td>0</td>\n",
              "      <td>4</td>\n",
              "      <td>1</td>\n",
              "      <td>1</td>\n",
              "      <td>0</td>\n",
              "    </tr>\n",
              "    <tr>\n",
              "      <th>4</th>\n",
              "      <td>31</td>\n",
              "      <td>3</td>\n",
              "      <td>22.0</td>\n",
              "      <td>912</td>\n",
              "      <td>6.0</td>\n",
              "      <td>121</td>\n",
              "      <td>2</td>\n",
              "      <td>0</td>\n",
              "      <td>4</td>\n",
              "      <td>1</td>\n",
              "      <td>1</td>\n",
              "      <td>0</td>\n",
              "    </tr>\n",
              "    <tr>\n",
              "      <th>...</th>\n",
              "      <td>...</td>\n",
              "      <td>...</td>\n",
              "      <td>...</td>\n",
              "      <td>...</td>\n",
              "      <td>...</td>\n",
              "      <td>...</td>\n",
              "      <td>...</td>\n",
              "      <td>...</td>\n",
              "      <td>...</td>\n",
              "      <td>...</td>\n",
              "      <td>...</td>\n",
              "      <td>...</td>\n",
              "    </tr>\n",
              "    <tr>\n",
              "      <th>456</th>\n",
              "      <td>21</td>\n",
              "      <td>2</td>\n",
              "      <td>5.0</td>\n",
              "      <td>288</td>\n",
              "      <td>4.5</td>\n",
              "      <td>38</td>\n",
              "      <td>2</td>\n",
              "      <td>0</td>\n",
              "      <td>1</td>\n",
              "      <td>20</td>\n",
              "      <td>0</td>\n",
              "      <td>1</td>\n",
              "    </tr>\n",
              "    <tr>\n",
              "      <th>457</th>\n",
              "      <td>23</td>\n",
              "      <td>3</td>\n",
              "      <td>7.0</td>\n",
              "      <td>199</td>\n",
              "      <td>4.5</td>\n",
              "      <td>34</td>\n",
              "      <td>4</td>\n",
              "      <td>0</td>\n",
              "      <td>2</td>\n",
              "      <td>20</td>\n",
              "      <td>0</td>\n",
              "      <td>1</td>\n",
              "    </tr>\n",
              "    <tr>\n",
              "      <th>458</th>\n",
              "      <td>23</td>\n",
              "      <td>3</td>\n",
              "      <td>4.5</td>\n",
              "      <td>198</td>\n",
              "      <td>4.5</td>\n",
              "      <td>29</td>\n",
              "      <td>1</td>\n",
              "      <td>0</td>\n",
              "      <td>2</td>\n",
              "      <td>20</td>\n",
              "      <td>0</td>\n",
              "      <td>0</td>\n",
              "    </tr>\n",
              "    <tr>\n",
              "      <th>459</th>\n",
              "      <td>21</td>\n",
              "      <td>1</td>\n",
              "      <td>1.0</td>\n",
              "      <td>412</td>\n",
              "      <td>4.5</td>\n",
              "      <td>16</td>\n",
              "      <td>1</td>\n",
              "      <td>0</td>\n",
              "      <td>1</td>\n",
              "      <td>20</td>\n",
              "      <td>0</td>\n",
              "      <td>1</td>\n",
              "    </tr>\n",
              "    <tr>\n",
              "      <th>460</th>\n",
              "      <td>27</td>\n",
              "      <td>1</td>\n",
              "      <td>10.0</td>\n",
              "      <td>214</td>\n",
              "      <td>5.5</td>\n",
              "      <td>12</td>\n",
              "      <td>4</td>\n",
              "      <td>0</td>\n",
              "      <td>3</td>\n",
              "      <td>20</td>\n",
              "      <td>0</td>\n",
              "      <td>0</td>\n",
              "    </tr>\n",
              "  </tbody>\n",
              "</table>\n",
              "<p>461 rows × 12 columns</p>\n",
              "</div>"
            ],
            "text/plain": [
              "     age  position_cat  market_value  ...  club_id  big_club  new_signing\n",
              "0     28             1          65.0  ...        1         1            0\n",
              "1     28             1          50.0  ...        1         1            0\n",
              "2     35             4           7.0  ...        1         1            0\n",
              "3     28             1          20.0  ...        1         1            0\n",
              "4     31             3          22.0  ...        1         1            0\n",
              "..   ...           ...           ...  ...      ...       ...          ...\n",
              "456   21             2           5.0  ...       20         0            1\n",
              "457   23             3           7.0  ...       20         0            1\n",
              "458   23             3           4.5  ...       20         0            0\n",
              "459   21             1           1.0  ...       20         0            1\n",
              "460   27             1          10.0  ...       20         0            0\n",
              "\n",
              "[461 rows x 12 columns]"
            ]
          },
          "metadata": {
            "tags": []
          },
          "execution_count": 32
        }
      ]
    },
    {
      "cell_type": "code",
      "metadata": {
        "id": "VbnBdgWvX-aA",
        "colab": {
          "base_uri": "https://localhost:8080/",
          "height": 314
        },
        "outputId": "4c0ea88e-ad58-4b49-ca51-9bc9f129a18e"
      },
      "source": [
        "data.describe()"
      ],
      "execution_count": null,
      "outputs": [
        {
          "output_type": "execute_result",
          "data": {
            "text/html": [
              "<div>\n",
              "<style scoped>\n",
              "    .dataframe tbody tr th:only-of-type {\n",
              "        vertical-align: middle;\n",
              "    }\n",
              "\n",
              "    .dataframe tbody tr th {\n",
              "        vertical-align: top;\n",
              "    }\n",
              "\n",
              "    .dataframe thead th {\n",
              "        text-align: right;\n",
              "    }\n",
              "</style>\n",
              "<table border=\"1\" class=\"dataframe\">\n",
              "  <thead>\n",
              "    <tr style=\"text-align: right;\">\n",
              "      <th></th>\n",
              "      <th>age</th>\n",
              "      <th>position_cat</th>\n",
              "      <th>market_value</th>\n",
              "      <th>page_views</th>\n",
              "      <th>fpl_value</th>\n",
              "      <th>fpl_points</th>\n",
              "      <th>region</th>\n",
              "      <th>new_foreign</th>\n",
              "      <th>age_cat</th>\n",
              "      <th>club_id</th>\n",
              "      <th>big_club</th>\n",
              "      <th>new_signing</th>\n",
              "    </tr>\n",
              "  </thead>\n",
              "  <tbody>\n",
              "    <tr>\n",
              "      <th>count</th>\n",
              "      <td>461.000000</td>\n",
              "      <td>461.000000</td>\n",
              "      <td>461.000000</td>\n",
              "      <td>461.000000</td>\n",
              "      <td>461.000000</td>\n",
              "      <td>461.000000</td>\n",
              "      <td>461.000000</td>\n",
              "      <td>461.000000</td>\n",
              "      <td>461.000000</td>\n",
              "      <td>461.000000</td>\n",
              "      <td>461.000000</td>\n",
              "      <td>461.000000</td>\n",
              "    </tr>\n",
              "    <tr>\n",
              "      <th>mean</th>\n",
              "      <td>26.804772</td>\n",
              "      <td>2.180043</td>\n",
              "      <td>11.012039</td>\n",
              "      <td>763.776573</td>\n",
              "      <td>5.447939</td>\n",
              "      <td>57.314534</td>\n",
              "      <td>1.997831</td>\n",
              "      <td>0.034707</td>\n",
              "      <td>3.206074</td>\n",
              "      <td>10.334056</td>\n",
              "      <td>0.303688</td>\n",
              "      <td>0.145336</td>\n",
              "    </tr>\n",
              "    <tr>\n",
              "      <th>std</th>\n",
              "      <td>3.961892</td>\n",
              "      <td>1.000061</td>\n",
              "      <td>12.257403</td>\n",
              "      <td>931.805757</td>\n",
              "      <td>1.346695</td>\n",
              "      <td>53.113811</td>\n",
              "      <td>0.961202</td>\n",
              "      <td>0.183236</td>\n",
              "      <td>1.279795</td>\n",
              "      <td>5.726475</td>\n",
              "      <td>0.460349</td>\n",
              "      <td>0.352822</td>\n",
              "    </tr>\n",
              "    <tr>\n",
              "      <th>min</th>\n",
              "      <td>17.000000</td>\n",
              "      <td>1.000000</td>\n",
              "      <td>0.050000</td>\n",
              "      <td>3.000000</td>\n",
              "      <td>4.000000</td>\n",
              "      <td>0.000000</td>\n",
              "      <td>1.000000</td>\n",
              "      <td>0.000000</td>\n",
              "      <td>1.000000</td>\n",
              "      <td>1.000000</td>\n",
              "      <td>0.000000</td>\n",
              "      <td>0.000000</td>\n",
              "    </tr>\n",
              "    <tr>\n",
              "      <th>25%</th>\n",
              "      <td>24.000000</td>\n",
              "      <td>1.000000</td>\n",
              "      <td>3.000000</td>\n",
              "      <td>220.000000</td>\n",
              "      <td>4.500000</td>\n",
              "      <td>5.000000</td>\n",
              "      <td>1.000000</td>\n",
              "      <td>0.000000</td>\n",
              "      <td>2.000000</td>\n",
              "      <td>6.000000</td>\n",
              "      <td>0.000000</td>\n",
              "      <td>0.000000</td>\n",
              "    </tr>\n",
              "    <tr>\n",
              "      <th>50%</th>\n",
              "      <td>27.000000</td>\n",
              "      <td>2.000000</td>\n",
              "      <td>7.000000</td>\n",
              "      <td>460.000000</td>\n",
              "      <td>5.000000</td>\n",
              "      <td>51.000000</td>\n",
              "      <td>2.000000</td>\n",
              "      <td>0.000000</td>\n",
              "      <td>3.000000</td>\n",
              "      <td>10.000000</td>\n",
              "      <td>0.000000</td>\n",
              "      <td>0.000000</td>\n",
              "    </tr>\n",
              "    <tr>\n",
              "      <th>75%</th>\n",
              "      <td>30.000000</td>\n",
              "      <td>3.000000</td>\n",
              "      <td>15.000000</td>\n",
              "      <td>896.000000</td>\n",
              "      <td>5.500000</td>\n",
              "      <td>94.000000</td>\n",
              "      <td>2.000000</td>\n",
              "      <td>0.000000</td>\n",
              "      <td>4.000000</td>\n",
              "      <td>15.000000</td>\n",
              "      <td>1.000000</td>\n",
              "      <td>0.000000</td>\n",
              "    </tr>\n",
              "    <tr>\n",
              "      <th>max</th>\n",
              "      <td>38.000000</td>\n",
              "      <td>4.000000</td>\n",
              "      <td>75.000000</td>\n",
              "      <td>7664.000000</td>\n",
              "      <td>12.500000</td>\n",
              "      <td>264.000000</td>\n",
              "      <td>4.000000</td>\n",
              "      <td>1.000000</td>\n",
              "      <td>6.000000</td>\n",
              "      <td>20.000000</td>\n",
              "      <td>1.000000</td>\n",
              "      <td>1.000000</td>\n",
              "    </tr>\n",
              "  </tbody>\n",
              "</table>\n",
              "</div>"
            ],
            "text/plain": [
              "              age  position_cat  ...    big_club  new_signing\n",
              "count  461.000000    461.000000  ...  461.000000   461.000000\n",
              "mean    26.804772      2.180043  ...    0.303688     0.145336\n",
              "std      3.961892      1.000061  ...    0.460349     0.352822\n",
              "min     17.000000      1.000000  ...    0.000000     0.000000\n",
              "25%     24.000000      1.000000  ...    0.000000     0.000000\n",
              "50%     27.000000      2.000000  ...    0.000000     0.000000\n",
              "75%     30.000000      3.000000  ...    1.000000     0.000000\n",
              "max     38.000000      4.000000  ...    1.000000     1.000000\n",
              "\n",
              "[8 rows x 12 columns]"
            ]
          },
          "metadata": {
            "tags": []
          },
          "execution_count": 33
        }
      ]
    },
    {
      "cell_type": "code",
      "metadata": {
        "id": "u4Q6OGXYYBT9",
        "colab": {
          "base_uri": "https://localhost:8080/",
          "height": 437
        },
        "outputId": "063e0183-b486-45bb-b3b9-732cb15b6012"
      },
      "source": [
        "data.corr(method='pearson')"
      ],
      "execution_count": null,
      "outputs": [
        {
          "output_type": "execute_result",
          "data": {
            "text/html": [
              "<div>\n",
              "<style scoped>\n",
              "    .dataframe tbody tr th:only-of-type {\n",
              "        vertical-align: middle;\n",
              "    }\n",
              "\n",
              "    .dataframe tbody tr th {\n",
              "        vertical-align: top;\n",
              "    }\n",
              "\n",
              "    .dataframe thead th {\n",
              "        text-align: right;\n",
              "    }\n",
              "</style>\n",
              "<table border=\"1\" class=\"dataframe\">\n",
              "  <thead>\n",
              "    <tr style=\"text-align: right;\">\n",
              "      <th></th>\n",
              "      <th>age</th>\n",
              "      <th>position_cat</th>\n",
              "      <th>market_value</th>\n",
              "      <th>page_views</th>\n",
              "      <th>fpl_value</th>\n",
              "      <th>fpl_points</th>\n",
              "      <th>region</th>\n",
              "      <th>new_foreign</th>\n",
              "      <th>age_cat</th>\n",
              "      <th>club_id</th>\n",
              "      <th>big_club</th>\n",
              "      <th>new_signing</th>\n",
              "    </tr>\n",
              "  </thead>\n",
              "  <tbody>\n",
              "    <tr>\n",
              "      <th>age</th>\n",
              "      <td>1.000000</td>\n",
              "      <td>0.220678</td>\n",
              "      <td>-0.132396</td>\n",
              "      <td>-0.048682</td>\n",
              "      <td>-0.097659</td>\n",
              "      <td>0.187785</td>\n",
              "      <td>0.080379</td>\n",
              "      <td>-0.125400</td>\n",
              "      <td>0.972199</td>\n",
              "      <td>-0.002868</td>\n",
              "      <td>-0.123566</td>\n",
              "      <td>-0.079190</td>\n",
              "    </tr>\n",
              "    <tr>\n",
              "      <th>position_cat</th>\n",
              "      <td>0.220678</td>\n",
              "      <td>1.000000</td>\n",
              "      <td>-0.217637</td>\n",
              "      <td>-0.279432</td>\n",
              "      <td>-0.491800</td>\n",
              "      <td>-0.084682</td>\n",
              "      <td>-0.067439</td>\n",
              "      <td>0.001415</td>\n",
              "      <td>0.196853</td>\n",
              "      <td>-0.016599</td>\n",
              "      <td>0.017915</td>\n",
              "      <td>-0.105127</td>\n",
              "    </tr>\n",
              "    <tr>\n",
              "      <th>market_value</th>\n",
              "      <td>-0.132396</td>\n",
              "      <td>-0.217637</td>\n",
              "      <td>1.000000</td>\n",
              "      <td>0.739657</td>\n",
              "      <td>0.788653</td>\n",
              "      <td>0.615155</td>\n",
              "      <td>0.099114</td>\n",
              "      <td>0.098056</td>\n",
              "      <td>-0.117682</td>\n",
              "      <td>-0.046068</td>\n",
              "      <td>0.593483</td>\n",
              "      <td>0.131321</td>\n",
              "    </tr>\n",
              "    <tr>\n",
              "      <th>page_views</th>\n",
              "      <td>-0.048682</td>\n",
              "      <td>-0.279432</td>\n",
              "      <td>0.739657</td>\n",
              "      <td>1.000000</td>\n",
              "      <td>0.730640</td>\n",
              "      <td>0.542464</td>\n",
              "      <td>0.027441</td>\n",
              "      <td>-0.049725</td>\n",
              "      <td>-0.041672</td>\n",
              "      <td>-0.092409</td>\n",
              "      <td>0.502982</td>\n",
              "      <td>0.127249</td>\n",
              "    </tr>\n",
              "    <tr>\n",
              "      <th>fpl_value</th>\n",
              "      <td>-0.097659</td>\n",
              "      <td>-0.491800</td>\n",
              "      <td>0.788653</td>\n",
              "      <td>0.730640</td>\n",
              "      <td>1.000000</td>\n",
              "      <td>0.618837</td>\n",
              "      <td>0.083883</td>\n",
              "      <td>0.108650</td>\n",
              "      <td>-0.082056</td>\n",
              "      <td>-0.060884</td>\n",
              "      <td>0.423556</td>\n",
              "      <td>0.098314</td>\n",
              "    </tr>\n",
              "    <tr>\n",
              "      <th>fpl_points</th>\n",
              "      <td>0.187785</td>\n",
              "      <td>-0.084682</td>\n",
              "      <td>0.615155</td>\n",
              "      <td>0.542464</td>\n",
              "      <td>0.618837</td>\n",
              "      <td>1.000000</td>\n",
              "      <td>-0.011569</td>\n",
              "      <td>-0.204837</td>\n",
              "      <td>0.176572</td>\n",
              "      <td>0.041094</td>\n",
              "      <td>0.280061</td>\n",
              "      <td>0.085720</td>\n",
              "    </tr>\n",
              "    <tr>\n",
              "      <th>region</th>\n",
              "      <td>0.080379</td>\n",
              "      <td>-0.067439</td>\n",
              "      <td>0.099114</td>\n",
              "      <td>0.027441</td>\n",
              "      <td>0.083883</td>\n",
              "      <td>-0.011569</td>\n",
              "      <td>1.000000</td>\n",
              "      <td>0.049800</td>\n",
              "      <td>0.085190</td>\n",
              "      <td>0.066483</td>\n",
              "      <td>0.035883</td>\n",
              "      <td>0.174007</td>\n",
              "    </tr>\n",
              "    <tr>\n",
              "      <th>new_foreign</th>\n",
              "      <td>-0.125400</td>\n",
              "      <td>0.001415</td>\n",
              "      <td>0.098056</td>\n",
              "      <td>-0.049725</td>\n",
              "      <td>0.108650</td>\n",
              "      <td>-0.204837</td>\n",
              "      <td>0.049800</td>\n",
              "      <td>1.000000</td>\n",
              "      <td>-0.113998</td>\n",
              "      <td>-0.002786</td>\n",
              "      <td>0.080949</td>\n",
              "      <td>-0.078193</td>\n",
              "    </tr>\n",
              "    <tr>\n",
              "      <th>age_cat</th>\n",
              "      <td>0.972199</td>\n",
              "      <td>0.196853</td>\n",
              "      <td>-0.117682</td>\n",
              "      <td>-0.041672</td>\n",
              "      <td>-0.082056</td>\n",
              "      <td>0.176572</td>\n",
              "      <td>0.085190</td>\n",
              "      <td>-0.113998</td>\n",
              "      <td>1.000000</td>\n",
              "      <td>-0.004668</td>\n",
              "      <td>-0.113835</td>\n",
              "      <td>-0.076102</td>\n",
              "    </tr>\n",
              "    <tr>\n",
              "      <th>club_id</th>\n",
              "      <td>-0.002868</td>\n",
              "      <td>-0.016599</td>\n",
              "      <td>-0.046068</td>\n",
              "      <td>-0.092409</td>\n",
              "      <td>-0.060884</td>\n",
              "      <td>0.041094</td>\n",
              "      <td>0.066483</td>\n",
              "      <td>-0.002786</td>\n",
              "      <td>-0.004668</td>\n",
              "      <td>1.000000</td>\n",
              "      <td>-0.155667</td>\n",
              "      <td>0.134085</td>\n",
              "    </tr>\n",
              "    <tr>\n",
              "      <th>big_club</th>\n",
              "      <td>-0.123566</td>\n",
              "      <td>0.017915</td>\n",
              "      <td>0.593483</td>\n",
              "      <td>0.502982</td>\n",
              "      <td>0.423556</td>\n",
              "      <td>0.280061</td>\n",
              "      <td>0.035883</td>\n",
              "      <td>0.080949</td>\n",
              "      <td>-0.113835</td>\n",
              "      <td>-0.155667</td>\n",
              "      <td>1.000000</td>\n",
              "      <td>0.035508</td>\n",
              "    </tr>\n",
              "    <tr>\n",
              "      <th>new_signing</th>\n",
              "      <td>-0.079190</td>\n",
              "      <td>-0.105127</td>\n",
              "      <td>0.131321</td>\n",
              "      <td>0.127249</td>\n",
              "      <td>0.098314</td>\n",
              "      <td>0.085720</td>\n",
              "      <td>0.174007</td>\n",
              "      <td>-0.078193</td>\n",
              "      <td>-0.076102</td>\n",
              "      <td>0.134085</td>\n",
              "      <td>0.035508</td>\n",
              "      <td>1.000000</td>\n",
              "    </tr>\n",
              "  </tbody>\n",
              "</table>\n",
              "</div>"
            ],
            "text/plain": [
              "                   age  position_cat  ...  big_club  new_signing\n",
              "age           1.000000      0.220678  ... -0.123566    -0.079190\n",
              "position_cat  0.220678      1.000000  ...  0.017915    -0.105127\n",
              "market_value -0.132396     -0.217637  ...  0.593483     0.131321\n",
              "page_views   -0.048682     -0.279432  ...  0.502982     0.127249\n",
              "fpl_value    -0.097659     -0.491800  ...  0.423556     0.098314\n",
              "fpl_points    0.187785     -0.084682  ...  0.280061     0.085720\n",
              "region        0.080379     -0.067439  ...  0.035883     0.174007\n",
              "new_foreign  -0.125400      0.001415  ...  0.080949    -0.078193\n",
              "age_cat       0.972199      0.196853  ... -0.113835    -0.076102\n",
              "club_id      -0.002868     -0.016599  ... -0.155667     0.134085\n",
              "big_club     -0.123566      0.017915  ...  1.000000     0.035508\n",
              "new_signing  -0.079190     -0.105127  ...  0.035508     1.000000\n",
              "\n",
              "[12 rows x 12 columns]"
            ]
          },
          "metadata": {
            "tags": []
          },
          "execution_count": 34
        }
      ]
    },
    {
      "cell_type": "code",
      "metadata": {
        "id": "B1cBO55KYGMy"
      },
      "source": [
        "X= data.drop('market_value',axis=1)\n",
        "Y= data['market_value']"
      ],
      "execution_count": null,
      "outputs": []
    },
    {
      "cell_type": "code",
      "metadata": {
        "id": "FmScfgaTYJtz",
        "colab": {
          "base_uri": "https://localhost:8080/"
        },
        "outputId": "3c13e7be-a64d-4434-8a8a-39c0cb202c44"
      },
      "source": [
        "from sklearn.model_selection  import train_test_split\n",
        "\n",
        "X_train, X_test, Y_train, Y_test = train_test_split(X, Y, test_size = 0.25, random_state=101)\n",
        "print(X_train.shape)\n",
        "print(X_test.shape)\n",
        "print(Y_train.shape)\n",
        "print(Y_test.shape)"
      ],
      "execution_count": null,
      "outputs": [
        {
          "output_type": "stream",
          "text": [
            "(345, 11)\n",
            "(116, 11)\n",
            "(345,)\n",
            "(116,)\n"
          ],
          "name": "stdout"
        }
      ]
    },
    {
      "cell_type": "markdown",
      "metadata": {
        "id": "Bua79O-TYNpp"
      },
      "source": [
        "# Linear Regression\n"
      ]
    },
    {
      "cell_type": "code",
      "metadata": {
        "id": "b5tyM-TbYWlF",
        "colab": {
          "base_uri": "https://localhost:8080/"
        },
        "outputId": "0e1cdded-7af0-421a-93ba-72b2d9b94d55"
      },
      "source": [
        "from sklearn.linear_model import LinearRegression\n",
        "\n",
        "regressor = LinearRegression(normalize=True)\n",
        "regressor.fit(X_train, Y_train)"
      ],
      "execution_count": null,
      "outputs": [
        {
          "output_type": "execute_result",
          "data": {
            "text/plain": [
              "LinearRegression(copy_X=True, fit_intercept=True, n_jobs=None, normalize=True)"
            ]
          },
          "metadata": {
            "tags": []
          },
          "execution_count": 37
        }
      ]
    },
    {
      "cell_type": "code",
      "metadata": {
        "id": "LUDCQYXjYbMG",
        "colab": {
          "base_uri": "https://localhost:8080/"
        },
        "outputId": "bc46492f-e9be-4711-f433-46ca41d33130"
      },
      "source": [
        "from sklearn import metrics\n",
        "\n",
        "pred = regressor.predict(X_test)\n",
        "pred"
      ],
      "execution_count": null,
      "outputs": [
        {
          "output_type": "execute_result",
          "data": {
            "text/plain": [
              "array([ 1.81732636, 18.61361715,  7.58441575,  9.69559324, 13.48621875,\n",
              "        1.7719928 ,  3.28553735,  1.44073652,  3.92641547,  7.25216353,\n",
              "       -2.38453493, 10.1936729 , 18.45365622,  2.81978099, -0.54264911,\n",
              "       23.63019   ,  3.86535783, 32.42850256, 26.01058233,  8.08985945,\n",
              "       23.11992939, 18.37761402,  1.74913737,  1.19690072,  2.9482014 ,\n",
              "       16.146341  , 37.18204607,  0.12339847,  4.76405672,  1.06228609,\n",
              "        6.92144416, 13.68840757, -3.53960714, 44.8572245 , -2.62685466,\n",
              "        6.83420694,  4.92959677,  6.52287303,  8.32396614,  9.11589334,\n",
              "       12.93544942, 20.43070552,  8.38603154,  5.61373308,  2.4789383 ,\n",
              "        4.28452146, 11.5166137 , 11.26726342,  3.66803695,  7.1254539 ,\n",
              "        8.20933538,  6.05222621, 23.36013346,  5.70869415,  9.52959896,\n",
              "        9.69304246,  7.6575665 ,  1.27702539,  6.6653578 ,  7.51223587,\n",
              "       27.51176747,  8.18250124, 22.02182672,  2.98752722, 14.03228044,\n",
              "        0.97935834, 52.53543893, 53.90963284,  1.8015113 , 12.61667694,\n",
              "       17.18738852, -3.1539685 , 18.41242258,  7.09901988,  0.33882765,\n",
              "        3.43288984, 17.90831724,  7.47822826,  1.51228955,  6.85936628,\n",
              "       22.52390513, 16.34773138,  4.32480461, 19.24463614, -2.57821134,\n",
              "       -0.13034157, 26.16230999,  8.33536808,  5.41115461, 16.53202309,\n",
              "       15.36194064, -0.37991295,  3.06670876,  3.56504026, 18.08695071,\n",
              "        8.53331148,  0.83228634, 13.30122123,  3.62325157,  6.79331391,\n",
              "       14.62628286,  8.48625516,  1.85733721, 12.39539775, 10.69514185,\n",
              "        5.2297055 ,  4.16606713,  3.19156482, 21.71936844,  3.12721306,\n",
              "       43.13361975, -0.86036453,  2.21359822, 10.8037824 , 21.00110732,\n",
              "        7.85361127])"
            ]
          },
          "metadata": {
            "tags": []
          },
          "execution_count": 38
        }
      ]
    },
    {
      "cell_type": "code",
      "metadata": {
        "id": "-qSWL33oYk-W",
        "colab": {
          "base_uri": "https://localhost:8080/"
        },
        "outputId": "dd2b5479-b6b5-4a07-8c3c-2d1557b5fe1d"
      },
      "source": [
        "import numpy as np\n",
        "\n",
        "rMSE = np.sqrt(metrics.mean_squared_error(Y_test, pred))\n",
        "rMSE"
      ],
      "execution_count": null,
      "outputs": [
        {
          "output_type": "execute_result",
          "data": {
            "text/plain": [
              "6.240155712201913"
            ]
          },
          "metadata": {
            "tags": []
          },
          "execution_count": 40
        }
      ]
    },
    {
      "cell_type": "markdown",
      "metadata": {
        "id": "qDFerPS9Y5Di"
      },
      "source": [
        "# LASSO REGRESSION"
      ]
    },
    {
      "cell_type": "code",
      "metadata": {
        "id": "XL1AxLClY1Gv",
        "colab": {
          "base_uri": "https://localhost:8080/"
        },
        "outputId": "35e32b22-4b36-43b3-c779-6f225efee296"
      },
      "source": [
        "from sklearn.linear_model import Lasso\n",
        "\n",
        "reg = Lasso(alpha=1.0)\n",
        "reg.fit(X_train, Y_train)"
      ],
      "execution_count": null,
      "outputs": [
        {
          "output_type": "execute_result",
          "data": {
            "text/plain": [
              "Lasso(alpha=1.0, copy_X=True, fit_intercept=True, max_iter=1000,\n",
              "      normalize=False, positive=False, precompute=False, random_state=None,\n",
              "      selection='cyclic', tol=0.0001, warm_start=False)"
            ]
          },
          "metadata": {
            "tags": []
          },
          "execution_count": 41
        }
      ]
    },
    {
      "cell_type": "code",
      "metadata": {
        "id": "MLrWg5YsZEe6",
        "colab": {
          "base_uri": "https://localhost:8080/"
        },
        "outputId": "2217e740-ac01-46d6-9114-7ee548a0629f"
      },
      "source": [
        "pred = reg.predict(X_test)\n",
        "pred"
      ],
      "execution_count": null,
      "outputs": [
        {
          "output_type": "execute_result",
          "data": {
            "text/plain": [
              "array([ 4.14462519e+00,  2.23715744e+01,  7.85834367e+00,  1.39892318e+01,\n",
              "        1.01306000e+01,  3.66796278e+00,  4.04857119e+00,  4.81300409e+00,\n",
              "        4.73405046e+00,  8.06735857e+00,  5.91849263e-01,  9.95177690e+00,\n",
              "        1.86984249e+01,  4.45864248e+00, -1.17519141e+00,  1.89137094e+01,\n",
              "        8.39429466e+00,  3.10701942e+01,  2.60437697e+01,  1.19126427e+01,\n",
              "        1.91815825e+01,  1.62734074e+01,  5.41992427e+00,  6.52929025e-01,\n",
              "        4.76061374e+00,  1.18505212e+01,  3.58555825e+01,  3.07511658e+00,\n",
              "        7.15759296e+00,  3.10775032e+00,  8.16635672e+00,  9.61472424e+00,\n",
              "       -1.67790930e+00,  4.12826322e+01, -4.06136940e-02,  1.04246265e+01,\n",
              "        7.34082139e+00,  7.74529766e+00,  7.85357988e+00,  7.88467854e+00,\n",
              "        1.48905838e+01,  1.76467710e+01,  2.08183378e+00,  6.96883179e+00,\n",
              "        4.43041827e+00,  6.91941323e+00,  1.29294183e+01,  6.91115659e+00,\n",
              "        4.35955701e+00,  7.60114230e+00,  5.75541303e+00,  6.42540411e+00,\n",
              "        2.08845831e+01,  9.06725232e+00,  8.34965626e+00,  2.13566042e+00,\n",
              "        1.08217780e+01,  2.30547970e+00,  6.51410242e+00,  9.00301749e+00,\n",
              "        2.73144191e+01,  4.67024521e+00,  2.50568458e+01,  3.68638664e+00,\n",
              "        1.78746745e+01,  2.62171118e+00,  5.06557001e+01,  5.22220446e+01,\n",
              "        3.97440113e+00,  1.28816434e+01,  1.38712938e+01,  2.18480754e-02,\n",
              "        1.46221538e+01,  1.72231761e+00,  3.52895475e+00,  5.17502111e+00,\n",
              "        1.29426301e+01,  8.66995434e+00,  2.64279506e+00,  8.69856774e+00,\n",
              "        1.89823502e+01,  1.73857480e+01,  4.06866761e+00,  1.77280845e+01,\n",
              "       -3.53327316e-01,  2.99042694e+00,  2.08093576e+01,  1.01610811e+01,\n",
              "        4.19935072e+00,  1.17104036e+01,  1.88245322e+01,  3.21949815e-01,\n",
              "        3.34716447e+00,  5.16612575e+00,  1.50997850e+01,  1.10384358e+01,\n",
              "        1.80496437e+00,  1.31504539e+01,  6.76846804e+00,  8.96090272e+00,\n",
              "        1.56198609e+01,  1.00611907e+01,  3.11990331e+00,  1.27705596e+01,\n",
              "        1.20531128e+01,  7.53810632e+00,  5.21096598e+00,  5.15066948e+00,\n",
              "        2.25123318e+01,  2.73448173e+00,  6.14441834e+01,  2.27875312e+00,\n",
              "        4.02144092e+00,  1.58403604e+01,  1.97441069e+01,  9.65750537e+00])"
            ]
          },
          "metadata": {
            "tags": []
          },
          "execution_count": 42
        }
      ]
    },
    {
      "cell_type": "code",
      "metadata": {
        "id": "BkAhk6YHZNvn",
        "colab": {
          "base_uri": "https://localhost:8080/"
        },
        "outputId": "7cc3c575-04ab-44ad-8ddd-8a29f6808766"
      },
      "source": [
        "rMSE = np.sqrt(metrics.mean_squared_error(Y_test, pred))\n",
        "rMSE"
      ],
      "execution_count": null,
      "outputs": [
        {
          "output_type": "execute_result",
          "data": {
            "text/plain": [
              "7.698359940680875"
            ]
          },
          "metadata": {
            "tags": []
          },
          "execution_count": 43
        }
      ]
    },
    {
      "cell_type": "markdown",
      "metadata": {
        "id": "OYFk4q8gZT_U"
      },
      "source": [
        "# RIDGE REGRESSION"
      ]
    },
    {
      "cell_type": "code",
      "metadata": {
        "id": "FuT-f5EhZVzc",
        "colab": {
          "base_uri": "https://localhost:8080/"
        },
        "outputId": "c13e8fee-10d9-4b26-d42a-68a16348a8da"
      },
      "source": [
        "from sklearn.linear_model import Ridge\n",
        "\n",
        "clf = Ridge(alpha=1.0)\n",
        "clf.fit(X_train, Y_train)"
      ],
      "execution_count": null,
      "outputs": [
        {
          "output_type": "execute_result",
          "data": {
            "text/plain": [
              "Ridge(alpha=1.0, copy_X=True, fit_intercept=True, max_iter=None,\n",
              "      normalize=False, random_state=None, solver='auto', tol=0.001)"
            ]
          },
          "metadata": {
            "tags": []
          },
          "execution_count": 44
        }
      ]
    },
    {
      "cell_type": "code",
      "metadata": {
        "id": "LKtmDIqNZb5k",
        "colab": {
          "base_uri": "https://localhost:8080/"
        },
        "outputId": "c16bd464-61f0-4d71-9582-f6627c866a5d"
      },
      "source": [
        "pred= clf.predict(X_test)\n",
        "pred"
      ],
      "execution_count": null,
      "outputs": [
        {
          "output_type": "execute_result",
          "data": {
            "text/plain": [
              "array([ 1.9055955 , 18.7251997 ,  7.52425174,  9.74829258, 13.46548675,\n",
              "        1.81231209,  3.2821618 ,  1.47693104,  3.9364618 ,  7.30256158,\n",
              "       -2.36530455, 10.16138604, 18.41717186,  2.88109445, -0.51252951,\n",
              "       23.64683845,  3.83909701, 32.41844013, 25.98896816,  8.14432227,\n",
              "       23.05405345, 18.31980441,  1.7404059 ,  1.24669998,  2.96449771,\n",
              "       16.17420857, 37.0925475 ,  0.19306508,  4.7458718 ,  1.12961204,\n",
              "        7.06387514, 13.69146098, -3.52365623, 44.8663453 , -2.60866187,\n",
              "        6.85374881,  4.91991514,  6.57191437,  8.30277731,  9.12838724,\n",
              "       12.8721744 , 20.35098392,  7.87450056,  5.58782627,  2.53195229,\n",
              "        4.38545436, 11.42304779, 11.26048763,  3.65257016,  7.15091865,\n",
              "        8.20254834,  6.06393814, 23.2689355 ,  5.76553013,  9.48785552,\n",
              "        9.18979909,  7.66815299,  1.38226072,  6.7718437 ,  7.46611745,\n",
              "       27.5075382 ,  8.20884694, 22.0729085 ,  3.07600387, 14.08444341,\n",
              "        1.06539894, 52.67833612, 54.03509227,  1.88605392, 12.55832383,\n",
              "       17.16055579, -3.13854078, 18.36657933,  6.54257604,  0.3477574 ,\n",
              "        3.39879568, 17.86694259,  7.43951157,  1.55340765,  6.88874   ,\n",
              "       22.50088375, 16.30926381,  4.31318785, 19.24615897, -2.51291986,\n",
              "       -0.08019412, 26.2401348 ,  8.33111513,  5.51242251, 16.48558707,\n",
              "       15.39899534, -0.39830113,  3.15594001,  3.66726625, 18.06565943,\n",
              "        8.57412347,  0.88641607, 13.37394846,  3.70683594,  6.88404604,\n",
              "       14.64297501,  8.48184563,  1.94604133, 12.39488309, 10.70517003,\n",
              "        5.23464497,  4.22003831,  3.18426139, 21.68383243,  3.21436498,\n",
              "       43.25696958, -0.8516898 ,  2.26230527, 10.87905718, 21.07833948,\n",
              "        7.78169181])"
            ]
          },
          "metadata": {
            "tags": []
          },
          "execution_count": 45
        }
      ]
    },
    {
      "cell_type": "code",
      "metadata": {
        "id": "1nZHDbPqZhap",
        "colab": {
          "base_uri": "https://localhost:8080/"
        },
        "outputId": "9fd62841-afde-49ca-f04f-21ba6f832ee3"
      },
      "source": [
        "rMSE = np.sqrt(metrics.mean_squared_error(Y_test, pred))\n",
        "rMSE"
      ],
      "execution_count": null,
      "outputs": [
        {
          "output_type": "execute_result",
          "data": {
            "text/plain": [
              "6.235107129412207"
            ]
          },
          "metadata": {
            "tags": []
          },
          "execution_count": 46
        }
      ]
    },
    {
      "cell_type": "markdown",
      "metadata": {
        "id": "w8j1rQbRZmZM"
      },
      "source": [
        "# NEAREST NEIGHBOUR REGRESSOR"
      ]
    },
    {
      "cell_type": "code",
      "metadata": {
        "id": "Vc42k7_7Zo6y",
        "colab": {
          "base_uri": "https://localhost:8080/"
        },
        "outputId": "a37c2ce3-1f65-4ccd-9e3b-83a9cf9d652c"
      },
      "source": [
        "from sklearn.neighbors import KNeighborsRegressor\n",
        "\n",
        "neigh = KNeighborsRegressor(n_neighbors=5)\n",
        "neigh.fit(X_train, Y_train)"
      ],
      "execution_count": null,
      "outputs": [
        {
          "output_type": "execute_result",
          "data": {
            "text/plain": [
              "KNeighborsRegressor(algorithm='auto', leaf_size=30, metric='minkowski',\n",
              "                    metric_params=None, n_jobs=None, n_neighbors=5, p=2,\n",
              "                    weights='uniform')"
            ]
          },
          "metadata": {
            "tags": []
          },
          "execution_count": 47
        }
      ]
    },
    {
      "cell_type": "code",
      "metadata": {
        "id": "ibH90zkhZxga",
        "colab": {
          "base_uri": "https://localhost:8080/"
        },
        "outputId": "138c6f4f-4176-4f65-de7e-cb5e86eedab3"
      },
      "source": [
        "pred= neigh.predict(X_test)\n",
        "pred"
      ],
      "execution_count": null,
      "outputs": [
        {
          "output_type": "execute_result",
          "data": {
            "text/plain": [
              "array([ 2.7 , 24.4 , 12.  , 13.3 ,  5.5 ,  4.85,  3.9 ,  2.5 ,  3.  ,\n",
              "        4.8 ,  6.  ,  5.6 , 23.  ,  4.9 ,  1.45, 23.  ,  7.2 , 28.6 ,\n",
              "       33.6 , 10.7 , 20.2 , 22.  ,  4.4 ,  0.7 ,  3.4 ,  6.3 , 26.  ,\n",
              "        2.15,  7.3 ,  6.4 ,  7.1 ,  8.5 ,  1.8 , 23.6 ,  2.4 , 11.4 ,\n",
              "        7.6 , 10.  ,  4.  ,  6.1 , 14.4 , 23.  ,  1.8 ,  9.2 ,  4.  ,\n",
              "        5.7 , 22.4 ,  8.7 ,  8.7 ,  5.4 ,  5.7 ,  5.3 , 18.8 ,  8.  ,\n",
              "       18.2 ,  0.7 ,  8.6 ,  1.45,  5.1 , 14.  , 23.  ,  8.5 , 20.1 ,\n",
              "        7.3 , 13.3 ,  0.7 , 56.  , 47.6 ,  5.62, 17.2 , 20.2 ,  4.9 ,\n",
              "       27.  ,  1.75,  2.25,  4.5 , 12.  ,  8.  ,  5.2 ,  5.5 , 20.2 ,\n",
              "       11.6 ,  4.8 , 22.  ,  1.1 ,  2.35, 24.6 ,  9.3 ,  8.5 , 11.8 ,\n",
              "       20.1 ,  3.9 ,  1.65,  6.2 , 22.2 ,  7.5 ,  3.35,  9.6 ,  6.4 ,\n",
              "        8.4 , 15.4 , 19.4 ,  8.6 , 15.8 ,  9.4 ,  6.9 ,  4.9 ,  5.9 ,\n",
              "       24.2 ,  3.35, 57.  ,  6.81,  8.5 , 14.1 , 19.8 ,  9.2 ])"
            ]
          },
          "metadata": {
            "tags": []
          },
          "execution_count": 48
        }
      ]
    },
    {
      "cell_type": "code",
      "metadata": {
        "id": "SJB_AAbNZ2VR",
        "colab": {
          "base_uri": "https://localhost:8080/"
        },
        "outputId": "136268cf-5d58-4a43-c9c9-279f934de535"
      },
      "source": [
        "rMSE = np.sqrt(metrics.mean_squared_error(Y_test, pred))\n",
        "rMSE"
      ],
      "execution_count": null,
      "outputs": [
        {
          "output_type": "execute_result",
          "data": {
            "text/plain": [
              "8.049488900031115"
            ]
          },
          "metadata": {
            "tags": []
          },
          "execution_count": 49
        }
      ]
    },
    {
      "cell_type": "markdown",
      "metadata": {
        "id": "SSH0D7wRZ9Y0"
      },
      "source": [
        "# SUPPORT VECTOR REGRESSOR"
      ]
    },
    {
      "cell_type": "code",
      "metadata": {
        "id": "iyG9AjHKZ8gO",
        "colab": {
          "base_uri": "https://localhost:8080/"
        },
        "outputId": "85453aef-f892-45a9-a4c6-8a43784bbc41"
      },
      "source": [
        "from sklearn.svm import SVR\n",
        "\n",
        "sregressor = SVR(kernel = 'rbf')\n",
        "sregressor.fit(X_train, Y_train)"
      ],
      "execution_count": null,
      "outputs": [
        {
          "output_type": "execute_result",
          "data": {
            "text/plain": [
              "SVR(C=1.0, cache_size=200, coef0=0.0, degree=3, epsilon=0.1, gamma='scale',\n",
              "    kernel='rbf', max_iter=-1, shrinking=True, tol=0.001, verbose=False)"
            ]
          },
          "metadata": {
            "tags": []
          },
          "execution_count": 50
        }
      ]
    },
    {
      "cell_type": "code",
      "metadata": {
        "id": "6kD6IH9ZaD3j",
        "colab": {
          "base_uri": "https://localhost:8080/"
        },
        "outputId": "6fc6c0ba-2eea-4303-d489-ba926aeaf714"
      },
      "source": [
        "pred= sregressor.predict(X_test)\n",
        "pred"
      ],
      "execution_count": null,
      "outputs": [
        {
          "output_type": "execute_result",
          "data": {
            "text/plain": [
              "array([ 2.96963497, 21.7640293 ,  7.5062868 , 19.51492627,  9.98700483,\n",
              "        3.55937126,  3.55587054,  2.78309501,  3.38636974,  4.11444557,\n",
              "        3.88629954,  5.41707061, 21.87749007,  3.45303348,  2.55690782,\n",
              "       17.48009024,  6.53435209, 21.83832785, 21.23189739,  8.910705  ,\n",
              "       19.29078415, 21.33945654,  3.13154608,  2.45580491,  3.52225566,\n",
              "       10.06889481, 20.07074848,  2.64719902,  4.35316813,  3.86520705,\n",
              "        8.17520901,  7.77989693,  2.37325781, 20.33031611,  3.00089373,\n",
              "       10.99139732,  6.50741325,  5.69946745,  3.30850382,  4.99000693,\n",
              "       10.90183763, 21.34328993,  2.39853031,  6.83689273,  3.30150552,\n",
              "        3.53157174, 21.8613022 ,  4.78427825,  4.71664908,  4.89664097,\n",
              "        8.10296434,  4.22026364, 22.00463168, 11.77599263, 14.45341125,\n",
              "        2.44562401, 10.26533619,  2.20085253,  3.63947621,  8.73328852,\n",
              "       20.9631481 ,  5.07856939, 20.65487055,  4.8641812 , 19.90573387,\n",
              "        2.44958417, 23.39487858, 22.2072626 ,  5.66924157, 18.5478425 ,\n",
              "       13.70192742,  3.48126929, 16.73082114,  2.62200952,  3.14018912,\n",
              "        3.48991912,  8.0017568 ,  7.23180958,  3.99558712,  6.38591068,\n",
              "       16.11395837, 11.17951291,  3.10324171, 21.63048594,  2.47813827,\n",
              "        3.05471683, 17.79361221, 10.75361862,  4.92654266,  9.60849235,\n",
              "       20.15240526,  2.9244784 ,  2.34598824, 10.36030699, 14.54310099,\n",
              "        7.0867578 ,  3.05009094, 11.30805365,  3.89279479, 11.19986832,\n",
              "        9.02379155, 11.66807546,  4.08317529, 12.74142591,  6.38030832,\n",
              "        4.99300274,  3.45358465,  4.90976341, 20.73211507,  3.08452301,\n",
              "       17.60342584,  6.5414898 ,  4.27424693, 20.0096715 , 21.0067303 ,\n",
              "       11.78147533])"
            ]
          },
          "metadata": {
            "tags": []
          },
          "execution_count": 51
        }
      ]
    },
    {
      "cell_type": "code",
      "metadata": {
        "id": "gXcpG2n8aGdv",
        "colab": {
          "base_uri": "https://localhost:8080/"
        },
        "outputId": "aaf0372a-0aa8-4b4b-d59a-d22c16e8c1d2"
      },
      "source": [
        "rMSE = np.sqrt(metrics.mean_squared_error(Y_test, pred))\n",
        "rMSE"
      ],
      "execution_count": null,
      "outputs": [
        {
          "output_type": "execute_result",
          "data": {
            "text/plain": [
              "8.810676809761732"
            ]
          },
          "metadata": {
            "tags": []
          },
          "execution_count": 52
        }
      ]
    },
    {
      "cell_type": "markdown",
      "metadata": {
        "id": "ZnqEeuLfaWf8"
      },
      "source": [
        "# TREE REGRESSOR"
      ]
    },
    {
      "cell_type": "code",
      "metadata": {
        "id": "UvQ-p0bWaWIs",
        "colab": {
          "base_uri": "https://localhost:8080/"
        },
        "outputId": "b9179c2d-cf2c-4bce-e6bd-5752074aae09"
      },
      "source": [
        "from sklearn.tree import DecisionTreeRegressor\n",
        "\n",
        "tregressor = DecisionTreeRegressor(random_state=0)\n",
        "tregressor.fit(X_train, Y_train)"
      ],
      "execution_count": null,
      "outputs": [
        {
          "output_type": "execute_result",
          "data": {
            "text/plain": [
              "DecisionTreeRegressor(ccp_alpha=0.0, criterion='mse', max_depth=None,\n",
              "                      max_features=None, max_leaf_nodes=None,\n",
              "                      min_impurity_decrease=0.0, min_impurity_split=None,\n",
              "                      min_samples_leaf=1, min_samples_split=2,\n",
              "                      min_weight_fraction_leaf=0.0, presort='deprecated',\n",
              "                      random_state=0, splitter='best')"
            ]
          },
          "metadata": {
            "tags": []
          },
          "execution_count": 56
        }
      ]
    },
    {
      "cell_type": "code",
      "metadata": {
        "id": "cBTkSrT4aeW4",
        "colab": {
          "base_uri": "https://localhost:8080/"
        },
        "outputId": "c1e2e8dd-8ec1-4634-c00b-7f304f589a33"
      },
      "source": [
        "pred= tregressor.predict(X_test)\n",
        "pred"
      ],
      "execution_count": null,
      "outputs": [
        {
          "output_type": "execute_result",
          "data": {
            "text/plain": [
              "array([ 0.25, 12.  ,  1.  , 15.  , 10.  ,  0.75,  2.5 ,  0.25,  4.  ,\n",
              "        5.  ,  6.  ,  8.  , 12.  ,  2.  ,  0.5 , 20.  ,  6.  , 20.  ,\n",
              "       18.  , 10.  , 28.  , 12.  ,  2.5 ,  5.  ,  7.  , 10.  , 28.  ,\n",
              "        2.  ,  2.5 ,  5.  ,  5.  , 21.  ,  0.5 , 45.  ,  0.5 , 13.  ,\n",
              "        5.  ,  9.  ,  3.  ,  7.  , 15.  ,  1.5 ,  5.  ,  1.  ,  5.5 ,\n",
              "        0.75,  2.5 , 10.  ,  5.  , 15.  ,  5.  ,  2.5 , 35.  ,  4.  ,\n",
              "        6.  ,  5.5 , 10.  ,  0.25,  6.  ,  1.  , 32.  ,  5.  , 18.  ,\n",
              "        3.  , 12.  ,  0.5 , 65.  , 65.  ,  5.  ,  3.5 , 28.  ,  1.  ,\n",
              "       35.  ,  4.  ,  3.  ,  1.5 , 13.  ,  1.  ,  2.  , 10.  , 30.  ,\n",
              "       18.  ,  2.5 ,  8.  ,  0.25,  5.  , 40.  , 20.  ,  5.  , 10.  ,\n",
              "       15.  ,  1.  ,  0.25,  6.  , 16.  , 10.  ,  1.5 , 22.  ,  9.  ,\n",
              "        8.  , 15.  ,  4.  ,  5.  , 35.  , 15.  ,  3.5 , 10.  ,  6.  ,\n",
              "       16.  ,  6.  , 12.  ,  6.  ,  3.5 , 15.  , 12.  , 20.  ])"
            ]
          },
          "metadata": {
            "tags": []
          },
          "execution_count": 57
        }
      ]
    },
    {
      "cell_type": "code",
      "metadata": {
        "id": "l99gWrq9avtb",
        "colab": {
          "base_uri": "https://localhost:8080/"
        },
        "outputId": "c846e6e0-071b-4232-e6aa-1c58b46155d9"
      },
      "source": [
        "rMSE = np.sqrt(metrics.mean_squared_error(Y_test, pred))\n",
        "rMSE"
      ],
      "execution_count": null,
      "outputs": [
        {
          "output_type": "execute_result",
          "data": {
            "text/plain": [
              "6.576350326791423"
            ]
          },
          "metadata": {
            "tags": []
          },
          "execution_count": 58
        }
      ]
    },
    {
      "cell_type": "markdown",
      "metadata": {
        "id": "-HMk3KZHbRgo"
      },
      "source": [
        "# RANDOM FOREST REGRESSOR"
      ]
    },
    {
      "cell_type": "code",
      "metadata": {
        "id": "yWiOSROcbQA3",
        "colab": {
          "base_uri": "https://localhost:8080/"
        },
        "outputId": "9775a7fe-f350-44de-c82e-87bafc2184b2"
      },
      "source": [
        "from sklearn.ensemble import RandomForestRegressor\n",
        "\n",
        "rRegressor = RandomForestRegressor(n_estimators = 100, random_state = 0)\n",
        "rRegressor.fit(X_train, Y_train)"
      ],
      "execution_count": null,
      "outputs": [
        {
          "output_type": "execute_result",
          "data": {
            "text/plain": [
              "RandomForestRegressor(bootstrap=True, ccp_alpha=0.0, criterion='mse',\n",
              "                      max_depth=None, max_features='auto', max_leaf_nodes=None,\n",
              "                      max_samples=None, min_impurity_decrease=0.0,\n",
              "                      min_impurity_split=None, min_samples_leaf=1,\n",
              "                      min_samples_split=2, min_weight_fraction_leaf=0.0,\n",
              "                      n_estimators=100, n_jobs=None, oob_score=False,\n",
              "                      random_state=0, verbose=0, warm_start=False)"
            ]
          },
          "metadata": {
            "tags": []
          },
          "execution_count": 59
        }
      ]
    },
    {
      "cell_type": "code",
      "metadata": {
        "id": "7e0cjYupbdZS",
        "colab": {
          "base_uri": "https://localhost:8080/"
        },
        "outputId": "a8ff129f-65b5-4b64-cee3-9772b9555293"
      },
      "source": [
        "pred = rRegressor.predict(X_test)\n",
        "pred"
      ],
      "execution_count": null,
      "outputs": [
        {
          "output_type": "execute_result",
          "data": {
            "text/plain": [
              "array([ 1.57  , 16.02  ,  3.286 , 13.66  ,  8.77  ,  2.067 ,  3.81  ,\n",
              "        1.72  ,  4.365 ,  6.655 ,  3.1445,  8.515 , 25.35  ,  4.995 ,\n",
              "        1.945 , 17.74  ,  6.0655, 26.74  , 22.72  ,  8.315 , 29.63  ,\n",
              "       19.545 ,  3.8375,  2.0325,  4.445 , 12.35  , 27.76  ,  2.69  ,\n",
              "        4.955 ,  4.7   ,  8.435 , 11.525 ,  0.6475, 39.6   ,  1.87  ,\n",
              "       11.91  ,  4.625 ,  8.29  ,  5.265 ,  8.495 , 12.025 , 15.23  ,\n",
              "        3.1505,  4.178 ,  4.3075,  4.6325,  7.105 ,  5.148 ,  5.564 ,\n",
              "        8.04  ,  7.325 ,  5.5125, 28.26  ,  9.425 , 11.245 ,  3.299 ,\n",
              "       10.78  ,  0.5665,  6.045 ,  6.201 , 22.95  ,  6.178 , 16.38  ,\n",
              "        5.6055, 16.29  ,  0.719 , 53.37  , 56.1   ,  5.835 ,  9.02  ,\n",
              "       25.04  ,  2.903 , 21.78  ,  3.04  ,  2.6875,  2.645 , 13.975 ,\n",
              "        5.501 ,  3.3945,  8.505 , 26.17  , 15.665 ,  3.545 , 22.51  ,\n",
              "        0.9875,  3.75  , 31.99  , 12.005 ,  5.425 , 13.17  , 19.365 ,\n",
              "        1.6825,  1.5635,  5.136 , 19.85  ,  9.575 ,  3.4775, 14.2   ,\n",
              "        6.62  ,  9.98  , 16.36  ,  9.66  ,  4.9   , 15.33  ,  9.465 ,\n",
              "        5.1895,  3.665 ,  5.465 , 15.685 ,  3.5915, 35.185 ,  2.911 ,\n",
              "        4.9   , 10.87  , 17.68  , 12.115 ])"
            ]
          },
          "metadata": {
            "tags": []
          },
          "execution_count": 60
        }
      ]
    },
    {
      "cell_type": "code",
      "metadata": {
        "id": "v-P3XcfPbp49",
        "colab": {
          "base_uri": "https://localhost:8080/"
        },
        "outputId": "8d52b291-cee0-45ce-aa84-2a3a577226b2"
      },
      "source": [
        "rMSE = np.sqrt(metrics.mean_squared_error(Y_test, pred))\n",
        "rMSE"
      ],
      "execution_count": null,
      "outputs": [
        {
          "output_type": "execute_result",
          "data": {
            "text/plain": [
              "5.58683093946118"
            ]
          },
          "metadata": {
            "tags": []
          },
          "execution_count": 61
        }
      ]
    },
    {
      "cell_type": "markdown",
      "metadata": {
        "id": "H8bzCqznfZfa"
      },
      "source": [
        "# GRADIENT BOOSTING REGRESSOR"
      ]
    },
    {
      "cell_type": "code",
      "metadata": {
        "id": "b7LmA7gffbPW",
        "colab": {
          "base_uri": "https://localhost:8080/"
        },
        "outputId": "083424c7-bc4e-4974-979d-3915732b0e47"
      },
      "source": [
        "from sklearn.ensemble import GradientBoostingRegressor\n",
        "\n",
        "regb = GradientBoostingRegressor(random_state=0)\n",
        "regb.fit(X_train, Y_train)"
      ],
      "execution_count": null,
      "outputs": [
        {
          "output_type": "execute_result",
          "data": {
            "text/plain": [
              "GradientBoostingRegressor(alpha=0.9, ccp_alpha=0.0, criterion='friedman_mse',\n",
              "                          init=None, learning_rate=0.1, loss='ls', max_depth=3,\n",
              "                          max_features=None, max_leaf_nodes=None,\n",
              "                          min_impurity_decrease=0.0, min_impurity_split=None,\n",
              "                          min_samples_leaf=1, min_samples_split=2,\n",
              "                          min_weight_fraction_leaf=0.0, n_estimators=100,\n",
              "                          n_iter_no_change=None, presort='deprecated',\n",
              "                          random_state=0, subsample=1.0, tol=0.0001,\n",
              "                          validation_fraction=0.1, verbose=0, warm_start=False)"
            ]
          },
          "metadata": {
            "tags": []
          },
          "execution_count": 62
        }
      ]
    },
    {
      "cell_type": "code",
      "metadata": {
        "id": "yZMSzuLtfiAs",
        "colab": {
          "base_uri": "https://localhost:8080/"
        },
        "outputId": "2120de04-e2fa-443d-d161-b1041547f6f5"
      },
      "source": [
        "pred= regb.predict(X_test)\n",
        "pred"
      ],
      "execution_count": null,
      "outputs": [
        {
          "output_type": "execute_result",
          "data": {
            "text/plain": [
              "array([ 0.67617833, 16.47352984,  1.30906136, 13.86641975,  6.01966199,\n",
              "        0.93639296,  2.52795461,  0.95941827,  2.87475374,  8.69350565,\n",
              "       -0.73711245,  8.39095638, 22.34147773,  5.81238726, -0.77398466,\n",
              "       19.51628488,  4.99258522, 33.06469323, 20.72754784,  6.01147257,\n",
              "       27.91281851, 20.03885602,  1.89781703,  1.72793831,  6.97336257,\n",
              "       14.77917835, 34.07335147,  2.0017422 ,  5.77860482,  2.22773625,\n",
              "       11.37361999, 15.90740057, -1.00843959, 42.82216103, -0.73579116,\n",
              "       10.37500868,  4.34994502,  9.17251473,  7.62487799,  9.51498788,\n",
              "       12.18510238, 12.01956408,  3.61837277,  0.83427574,  4.57467474,\n",
              "        4.0936756 ,  5.207028  ,  2.97561669,  4.10358417,  8.05389608,\n",
              "        9.46817321,  5.03702141, 32.21574648,  6.6053403 , 11.45594804,\n",
              "        3.50579715,  8.95937081, -0.92770727,  7.06558738,  2.38993778,\n",
              "       21.4012838 ,  7.32986782, 18.76389978,  4.2749438 , 12.69215419,\n",
              "       -0.77878838, 45.82756858, 59.40736918,  5.46581234,  6.70755462,\n",
              "       24.83181654, -2.1373758 , 21.47463929,  3.96310495,  2.66696373,\n",
              "        2.64008287, 18.81584317,  1.95233104,  3.85922119,  6.79591189,\n",
              "       28.65289595, 16.41857902,  3.18556077, 22.78612374,  0.53983235,\n",
              "        2.20632119, 30.40188984, 11.08202295,  3.79609708, 18.23538964,\n",
              "       18.54342534,  0.56311498,  2.59817733,  2.98168251, 20.45976514,\n",
              "        9.9604596 ,  1.90004536, 12.79240551,  7.45076461, 10.72058416,\n",
              "       14.6674735 ,  7.47773055,  5.27598424,  8.1344975 ,  6.81191144,\n",
              "        3.58475567,  5.40192309,  6.58764833, 13.82374317,  2.02464199,\n",
              "       30.09066754,  0.51240911,  3.18671804,  9.88148191, 19.29843165,\n",
              "       10.51989441])"
            ]
          },
          "metadata": {
            "tags": []
          },
          "execution_count": 63
        }
      ]
    },
    {
      "cell_type": "code",
      "metadata": {
        "id": "AXkj4_i7f5y6",
        "colab": {
          "base_uri": "https://localhost:8080/"
        },
        "outputId": "edb6837f-f79d-4083-81eb-1d9d5969911f"
      },
      "source": [
        "rMSE = np.sqrt(metrics.mean_squared_error(Y_test, pred))\n",
        "rMSE"
      ],
      "execution_count": null,
      "outputs": [
        {
          "output_type": "execute_result",
          "data": {
            "text/plain": [
              "5.244900317284406"
            ]
          },
          "metadata": {
            "tags": []
          },
          "execution_count": 64
        }
      ]
    }
  ]
}